{
 "cells": [
  {
   "cell_type": "markdown",
   "metadata": {},
   "source": [
    "###  Question \n",
    "The American Community Survey distributes downloadable data about United States communities. Download the 2006 microdata survey about housing for the state of Idaho using download.file() from here:\n",
    "\n",
    "https://d396qusza40orc.cloudfront.net/getdata%2Fdata%2Fss06hid.csv\n",
    "\n",
    "and load the data into R. The code book, describing the variable names is here:\n",
    "\n",
    "https://d396qusza40orc.cloudfront.net/getdata%2Fdata%2FPUMSDataDict06.pdf\n",
    "\n",
    "Apply strsplit() to split all the names of the data frame on the characters \"wgtp\". What is the value of the 123 element of the resulting list?"
   ]
  },
  {
   "cell_type": "code",
   "execution_count": 111,
   "metadata": {},
   "outputs": [],
   "source": [
    "library(\"tidyverse\")"
   ]
  },
  {
   "cell_type": "code",
   "execution_count": 112,
   "metadata": {},
   "outputs": [
    {
     "name": "stderr",
     "output_type": "stream",
     "text": [
      "Parsed with column specification:\n",
      "cols(\n",
      "  .default = col_character(),\n",
      "  SERIALNO = col_integer(),\n",
      "  DIVISION = col_integer(),\n",
      "  REGION = col_integer(),\n",
      "  ST = col_integer(),\n",
      "  ADJUST = col_integer(),\n",
      "  TYPE = col_integer(),\n",
      "  ACR = col_integer(),\n",
      "  AGS = col_integer(),\n",
      "  BDS = col_integer(),\n",
      "  BUS = col_integer(),\n",
      "  HFL = col_integer(),\n",
      "  KIT = col_integer(),\n",
      "  MRGI = col_integer(),\n",
      "  MRGT = col_integer(),\n",
      "  MRGX = col_integer(),\n",
      "  PLM = col_integer(),\n",
      "  RMS = col_integer(),\n",
      "  RNTM = col_integer(),\n",
      "  TEL = col_integer(),\n",
      "  TEN = col_integer()\n",
      "  # ... with 61 more columns\n",
      ")\n",
      "See spec(...) for full column specifications.\n"
     ]
    }
   ],
   "source": [
    "data1<-  read_csv(\"F:/learningr/coursera_Getting and Cleaning Data/data/Fss06hid.csv\")"
   ]
  },
  {
   "cell_type": "code",
   "execution_count": 113,
   "metadata": {},
   "outputs": [
    {
     "data": {
      "text/html": [
       "<ol class=list-inline>\n",
       "\t<li>'RT'</li>\n",
       "\t<li>'SERIALNO'</li>\n",
       "\t<li>'DIVISION'</li>\n",
       "\t<li>'PUMA'</li>\n",
       "\t<li>'REGION'</li>\n",
       "\t<li>'ST'</li>\n",
       "\t<li>'ADJUST'</li>\n",
       "\t<li>'WGTP'</li>\n",
       "\t<li>'NP'</li>\n",
       "\t<li>'TYPE'</li>\n",
       "\t<li>'ACR'</li>\n",
       "\t<li>'AGS'</li>\n",
       "\t<li>'BDS'</li>\n",
       "\t<li>'BLD'</li>\n",
       "\t<li>'BUS'</li>\n",
       "\t<li>'CONP'</li>\n",
       "\t<li>'ELEP'</li>\n",
       "\t<li>'FS'</li>\n",
       "\t<li>'FULP'</li>\n",
       "\t<li>'GASP'</li>\n",
       "\t<li>'HFL'</li>\n",
       "\t<li>'INSP'</li>\n",
       "\t<li>'KIT'</li>\n",
       "\t<li>'MHP'</li>\n",
       "\t<li>'MRGI'</li>\n",
       "\t<li>'MRGP'</li>\n",
       "\t<li>'MRGT'</li>\n",
       "\t<li>'MRGX'</li>\n",
       "\t<li>'PLM'</li>\n",
       "\t<li>'RMS'</li>\n",
       "\t<li>'RNTM'</li>\n",
       "\t<li>'RNTP'</li>\n",
       "\t<li>'SMP'</li>\n",
       "\t<li>'TEL'</li>\n",
       "\t<li>'TEN'</li>\n",
       "\t<li>'VACS'</li>\n",
       "\t<li>'VAL'</li>\n",
       "\t<li>'VEH'</li>\n",
       "\t<li>'WATP'</li>\n",
       "\t<li>'YBL'</li>\n",
       "\t<li>'FES'</li>\n",
       "\t<li>'FINCP'</li>\n",
       "\t<li>'FPARC'</li>\n",
       "\t<li>'GRNTP'</li>\n",
       "\t<li>'GRPIP'</li>\n",
       "\t<li>'HHL'</li>\n",
       "\t<li>'HHT'</li>\n",
       "\t<li>'HINCP'</li>\n",
       "\t<li>'HUGCL'</li>\n",
       "\t<li>'HUPAC'</li>\n",
       "\t<li>'HUPAOC'</li>\n",
       "\t<li>'HUPARC'</li>\n",
       "\t<li>'LNGI'</li>\n",
       "\t<li>'MV'</li>\n",
       "\t<li>'NOC'</li>\n",
       "\t<li>'NPF'</li>\n",
       "\t<li>'NPP'</li>\n",
       "\t<li>'NR'</li>\n",
       "\t<li>'NRC'</li>\n",
       "\t<li>'OCPIP'</li>\n",
       "\t<li>'PARTNER'</li>\n",
       "\t<li>'PSF'</li>\n",
       "\t<li>'R18'</li>\n",
       "\t<li>'R60'</li>\n",
       "\t<li>'R65'</li>\n",
       "\t<li>'RESMODE'</li>\n",
       "\t<li>'SMOCP'</li>\n",
       "\t<li>'SMX'</li>\n",
       "\t<li>'SRNT'</li>\n",
       "\t<li>'SVAL'</li>\n",
       "\t<li>'TAXP'</li>\n",
       "\t<li>'WIF'</li>\n",
       "\t<li>'WKEXREL'</li>\n",
       "\t<li>'WORKSTAT'</li>\n",
       "\t<li>'FACRP'</li>\n",
       "\t<li>'FAGSP'</li>\n",
       "\t<li>'FBDSP'</li>\n",
       "\t<li>'FBLDP'</li>\n",
       "\t<li>'FBUSP'</li>\n",
       "\t<li>'FCONP'</li>\n",
       "\t<li>'FELEP'</li>\n",
       "\t<li>'FFSP'</li>\n",
       "\t<li>'FFULP'</li>\n",
       "\t<li>'FGASP'</li>\n",
       "\t<li>'FHFLP'</li>\n",
       "\t<li>'FINSP'</li>\n",
       "\t<li>'FKITP'</li>\n",
       "\t<li>'FMHP'</li>\n",
       "\t<li>'FMRGIP'</li>\n",
       "\t<li>'FMRGP'</li>\n",
       "\t<li>'FMRGTP'</li>\n",
       "\t<li>'FMRGXP'</li>\n",
       "\t<li>'FMVYP'</li>\n",
       "\t<li>'FPLMP'</li>\n",
       "\t<li>'FRMSP'</li>\n",
       "\t<li>'FRNTMP'</li>\n",
       "\t<li>'FRNTP'</li>\n",
       "\t<li>'FSMP'</li>\n",
       "\t<li>'FSMXHP'</li>\n",
       "\t<li>'FSMXSP'</li>\n",
       "\t<li>'FTAXP'</li>\n",
       "\t<li>'FTELP'</li>\n",
       "\t<li>'FTENP'</li>\n",
       "\t<li>'FVACSP'</li>\n",
       "\t<li>'FVALP'</li>\n",
       "\t<li>'FVEHP'</li>\n",
       "\t<li>'FWATP'</li>\n",
       "\t<li>'FYBLP'</li>\n",
       "\t<li>'wgtp1'</li>\n",
       "\t<li>'wgtp2'</li>\n",
       "\t<li>'wgtp3'</li>\n",
       "\t<li>'wgtp4'</li>\n",
       "\t<li>'wgtp5'</li>\n",
       "\t<li>'wgtp6'</li>\n",
       "\t<li>'wgtp7'</li>\n",
       "\t<li>'wgtp8'</li>\n",
       "\t<li>'wgtp9'</li>\n",
       "\t<li>'wgtp10'</li>\n",
       "\t<li>'wgtp11'</li>\n",
       "\t<li>'wgtp12'</li>\n",
       "\t<li>'wgtp13'</li>\n",
       "\t<li>'wgtp14'</li>\n",
       "\t<li>'wgtp15'</li>\n",
       "\t<li>'wgtp16'</li>\n",
       "\t<li>'wgtp17'</li>\n",
       "\t<li>'wgtp18'</li>\n",
       "\t<li>'wgtp19'</li>\n",
       "\t<li>'wgtp20'</li>\n",
       "\t<li>'wgtp21'</li>\n",
       "\t<li>'wgtp22'</li>\n",
       "\t<li>'wgtp23'</li>\n",
       "\t<li>'wgtp24'</li>\n",
       "\t<li>'wgtp25'</li>\n",
       "\t<li>'wgtp26'</li>\n",
       "\t<li>'wgtp27'</li>\n",
       "\t<li>'wgtp28'</li>\n",
       "\t<li>'wgtp29'</li>\n",
       "\t<li>'wgtp30'</li>\n",
       "\t<li>'wgtp31'</li>\n",
       "\t<li>'wgtp32'</li>\n",
       "\t<li>'wgtp33'</li>\n",
       "\t<li>'wgtp34'</li>\n",
       "\t<li>'wgtp35'</li>\n",
       "\t<li>'wgtp36'</li>\n",
       "\t<li>'wgtp37'</li>\n",
       "\t<li>'wgtp38'</li>\n",
       "\t<li>'wgtp39'</li>\n",
       "\t<li>'wgtp40'</li>\n",
       "\t<li>'wgtp41'</li>\n",
       "\t<li>'wgtp42'</li>\n",
       "\t<li>'wgtp43'</li>\n",
       "\t<li>'wgtp44'</li>\n",
       "\t<li>'wgtp45'</li>\n",
       "\t<li>'wgtp46'</li>\n",
       "\t<li>'wgtp47'</li>\n",
       "\t<li>'wgtp48'</li>\n",
       "\t<li>'wgtp49'</li>\n",
       "\t<li>'wgtp50'</li>\n",
       "\t<li>'wgtp51'</li>\n",
       "\t<li>'wgtp52'</li>\n",
       "\t<li>'wgtp53'</li>\n",
       "\t<li>'wgtp54'</li>\n",
       "\t<li>'wgtp55'</li>\n",
       "\t<li>'wgtp56'</li>\n",
       "\t<li>'wgtp57'</li>\n",
       "\t<li>'wgtp58'</li>\n",
       "\t<li>'wgtp59'</li>\n",
       "\t<li>'wgtp60'</li>\n",
       "\t<li>'wgtp61'</li>\n",
       "\t<li>'wgtp62'</li>\n",
       "\t<li>'wgtp63'</li>\n",
       "\t<li>'wgtp64'</li>\n",
       "\t<li>'wgtp65'</li>\n",
       "\t<li>'wgtp66'</li>\n",
       "\t<li>'wgtp67'</li>\n",
       "\t<li>'wgtp68'</li>\n",
       "\t<li>'wgtp69'</li>\n",
       "\t<li>'wgtp70'</li>\n",
       "\t<li>'wgtp71'</li>\n",
       "\t<li>'wgtp72'</li>\n",
       "\t<li>'wgtp73'</li>\n",
       "\t<li>'wgtp74'</li>\n",
       "\t<li>'wgtp75'</li>\n",
       "\t<li>'wgtp76'</li>\n",
       "\t<li>'wgtp77'</li>\n",
       "\t<li>'wgtp78'</li>\n",
       "\t<li>'wgtp79'</li>\n",
       "\t<li>'wgtp80'</li>\n",
       "</ol>\n"
      ],
      "text/latex": [
       "\\begin{enumerate*}\n",
       "\\item 'RT'\n",
       "\\item 'SERIALNO'\n",
       "\\item 'DIVISION'\n",
       "\\item 'PUMA'\n",
       "\\item 'REGION'\n",
       "\\item 'ST'\n",
       "\\item 'ADJUST'\n",
       "\\item 'WGTP'\n",
       "\\item 'NP'\n",
       "\\item 'TYPE'\n",
       "\\item 'ACR'\n",
       "\\item 'AGS'\n",
       "\\item 'BDS'\n",
       "\\item 'BLD'\n",
       "\\item 'BUS'\n",
       "\\item 'CONP'\n",
       "\\item 'ELEP'\n",
       "\\item 'FS'\n",
       "\\item 'FULP'\n",
       "\\item 'GASP'\n",
       "\\item 'HFL'\n",
       "\\item 'INSP'\n",
       "\\item 'KIT'\n",
       "\\item 'MHP'\n",
       "\\item 'MRGI'\n",
       "\\item 'MRGP'\n",
       "\\item 'MRGT'\n",
       "\\item 'MRGX'\n",
       "\\item 'PLM'\n",
       "\\item 'RMS'\n",
       "\\item 'RNTM'\n",
       "\\item 'RNTP'\n",
       "\\item 'SMP'\n",
       "\\item 'TEL'\n",
       "\\item 'TEN'\n",
       "\\item 'VACS'\n",
       "\\item 'VAL'\n",
       "\\item 'VEH'\n",
       "\\item 'WATP'\n",
       "\\item 'YBL'\n",
       "\\item 'FES'\n",
       "\\item 'FINCP'\n",
       "\\item 'FPARC'\n",
       "\\item 'GRNTP'\n",
       "\\item 'GRPIP'\n",
       "\\item 'HHL'\n",
       "\\item 'HHT'\n",
       "\\item 'HINCP'\n",
       "\\item 'HUGCL'\n",
       "\\item 'HUPAC'\n",
       "\\item 'HUPAOC'\n",
       "\\item 'HUPARC'\n",
       "\\item 'LNGI'\n",
       "\\item 'MV'\n",
       "\\item 'NOC'\n",
       "\\item 'NPF'\n",
       "\\item 'NPP'\n",
       "\\item 'NR'\n",
       "\\item 'NRC'\n",
       "\\item 'OCPIP'\n",
       "\\item 'PARTNER'\n",
       "\\item 'PSF'\n",
       "\\item 'R18'\n",
       "\\item 'R60'\n",
       "\\item 'R65'\n",
       "\\item 'RESMODE'\n",
       "\\item 'SMOCP'\n",
       "\\item 'SMX'\n",
       "\\item 'SRNT'\n",
       "\\item 'SVAL'\n",
       "\\item 'TAXP'\n",
       "\\item 'WIF'\n",
       "\\item 'WKEXREL'\n",
       "\\item 'WORKSTAT'\n",
       "\\item 'FACRP'\n",
       "\\item 'FAGSP'\n",
       "\\item 'FBDSP'\n",
       "\\item 'FBLDP'\n",
       "\\item 'FBUSP'\n",
       "\\item 'FCONP'\n",
       "\\item 'FELEP'\n",
       "\\item 'FFSP'\n",
       "\\item 'FFULP'\n",
       "\\item 'FGASP'\n",
       "\\item 'FHFLP'\n",
       "\\item 'FINSP'\n",
       "\\item 'FKITP'\n",
       "\\item 'FMHP'\n",
       "\\item 'FMRGIP'\n",
       "\\item 'FMRGP'\n",
       "\\item 'FMRGTP'\n",
       "\\item 'FMRGXP'\n",
       "\\item 'FMVYP'\n",
       "\\item 'FPLMP'\n",
       "\\item 'FRMSP'\n",
       "\\item 'FRNTMP'\n",
       "\\item 'FRNTP'\n",
       "\\item 'FSMP'\n",
       "\\item 'FSMXHP'\n",
       "\\item 'FSMXSP'\n",
       "\\item 'FTAXP'\n",
       "\\item 'FTELP'\n",
       "\\item 'FTENP'\n",
       "\\item 'FVACSP'\n",
       "\\item 'FVALP'\n",
       "\\item 'FVEHP'\n",
       "\\item 'FWATP'\n",
       "\\item 'FYBLP'\n",
       "\\item 'wgtp1'\n",
       "\\item 'wgtp2'\n",
       "\\item 'wgtp3'\n",
       "\\item 'wgtp4'\n",
       "\\item 'wgtp5'\n",
       "\\item 'wgtp6'\n",
       "\\item 'wgtp7'\n",
       "\\item 'wgtp8'\n",
       "\\item 'wgtp9'\n",
       "\\item 'wgtp10'\n",
       "\\item 'wgtp11'\n",
       "\\item 'wgtp12'\n",
       "\\item 'wgtp13'\n",
       "\\item 'wgtp14'\n",
       "\\item 'wgtp15'\n",
       "\\item 'wgtp16'\n",
       "\\item 'wgtp17'\n",
       "\\item 'wgtp18'\n",
       "\\item 'wgtp19'\n",
       "\\item 'wgtp20'\n",
       "\\item 'wgtp21'\n",
       "\\item 'wgtp22'\n",
       "\\item 'wgtp23'\n",
       "\\item 'wgtp24'\n",
       "\\item 'wgtp25'\n",
       "\\item 'wgtp26'\n",
       "\\item 'wgtp27'\n",
       "\\item 'wgtp28'\n",
       "\\item 'wgtp29'\n",
       "\\item 'wgtp30'\n",
       "\\item 'wgtp31'\n",
       "\\item 'wgtp32'\n",
       "\\item 'wgtp33'\n",
       "\\item 'wgtp34'\n",
       "\\item 'wgtp35'\n",
       "\\item 'wgtp36'\n",
       "\\item 'wgtp37'\n",
       "\\item 'wgtp38'\n",
       "\\item 'wgtp39'\n",
       "\\item 'wgtp40'\n",
       "\\item 'wgtp41'\n",
       "\\item 'wgtp42'\n",
       "\\item 'wgtp43'\n",
       "\\item 'wgtp44'\n",
       "\\item 'wgtp45'\n",
       "\\item 'wgtp46'\n",
       "\\item 'wgtp47'\n",
       "\\item 'wgtp48'\n",
       "\\item 'wgtp49'\n",
       "\\item 'wgtp50'\n",
       "\\item 'wgtp51'\n",
       "\\item 'wgtp52'\n",
       "\\item 'wgtp53'\n",
       "\\item 'wgtp54'\n",
       "\\item 'wgtp55'\n",
       "\\item 'wgtp56'\n",
       "\\item 'wgtp57'\n",
       "\\item 'wgtp58'\n",
       "\\item 'wgtp59'\n",
       "\\item 'wgtp60'\n",
       "\\item 'wgtp61'\n",
       "\\item 'wgtp62'\n",
       "\\item 'wgtp63'\n",
       "\\item 'wgtp64'\n",
       "\\item 'wgtp65'\n",
       "\\item 'wgtp66'\n",
       "\\item 'wgtp67'\n",
       "\\item 'wgtp68'\n",
       "\\item 'wgtp69'\n",
       "\\item 'wgtp70'\n",
       "\\item 'wgtp71'\n",
       "\\item 'wgtp72'\n",
       "\\item 'wgtp73'\n",
       "\\item 'wgtp74'\n",
       "\\item 'wgtp75'\n",
       "\\item 'wgtp76'\n",
       "\\item 'wgtp77'\n",
       "\\item 'wgtp78'\n",
       "\\item 'wgtp79'\n",
       "\\item 'wgtp80'\n",
       "\\end{enumerate*}\n"
      ],
      "text/markdown": [
       "1. 'RT'\n",
       "2. 'SERIALNO'\n",
       "3. 'DIVISION'\n",
       "4. 'PUMA'\n",
       "5. 'REGION'\n",
       "6. 'ST'\n",
       "7. 'ADJUST'\n",
       "8. 'WGTP'\n",
       "9. 'NP'\n",
       "10. 'TYPE'\n",
       "11. 'ACR'\n",
       "12. 'AGS'\n",
       "13. 'BDS'\n",
       "14. 'BLD'\n",
       "15. 'BUS'\n",
       "16. 'CONP'\n",
       "17. 'ELEP'\n",
       "18. 'FS'\n",
       "19. 'FULP'\n",
       "20. 'GASP'\n",
       "21. 'HFL'\n",
       "22. 'INSP'\n",
       "23. 'KIT'\n",
       "24. 'MHP'\n",
       "25. 'MRGI'\n",
       "26. 'MRGP'\n",
       "27. 'MRGT'\n",
       "28. 'MRGX'\n",
       "29. 'PLM'\n",
       "30. 'RMS'\n",
       "31. 'RNTM'\n",
       "32. 'RNTP'\n",
       "33. 'SMP'\n",
       "34. 'TEL'\n",
       "35. 'TEN'\n",
       "36. 'VACS'\n",
       "37. 'VAL'\n",
       "38. 'VEH'\n",
       "39. 'WATP'\n",
       "40. 'YBL'\n",
       "41. 'FES'\n",
       "42. 'FINCP'\n",
       "43. 'FPARC'\n",
       "44. 'GRNTP'\n",
       "45. 'GRPIP'\n",
       "46. 'HHL'\n",
       "47. 'HHT'\n",
       "48. 'HINCP'\n",
       "49. 'HUGCL'\n",
       "50. 'HUPAC'\n",
       "51. 'HUPAOC'\n",
       "52. 'HUPARC'\n",
       "53. 'LNGI'\n",
       "54. 'MV'\n",
       "55. 'NOC'\n",
       "56. 'NPF'\n",
       "57. 'NPP'\n",
       "58. 'NR'\n",
       "59. 'NRC'\n",
       "60. 'OCPIP'\n",
       "61. 'PARTNER'\n",
       "62. 'PSF'\n",
       "63. 'R18'\n",
       "64. 'R60'\n",
       "65. 'R65'\n",
       "66. 'RESMODE'\n",
       "67. 'SMOCP'\n",
       "68. 'SMX'\n",
       "69. 'SRNT'\n",
       "70. 'SVAL'\n",
       "71. 'TAXP'\n",
       "72. 'WIF'\n",
       "73. 'WKEXREL'\n",
       "74. 'WORKSTAT'\n",
       "75. 'FACRP'\n",
       "76. 'FAGSP'\n",
       "77. 'FBDSP'\n",
       "78. 'FBLDP'\n",
       "79. 'FBUSP'\n",
       "80. 'FCONP'\n",
       "81. 'FELEP'\n",
       "82. 'FFSP'\n",
       "83. 'FFULP'\n",
       "84. 'FGASP'\n",
       "85. 'FHFLP'\n",
       "86. 'FINSP'\n",
       "87. 'FKITP'\n",
       "88. 'FMHP'\n",
       "89. 'FMRGIP'\n",
       "90. 'FMRGP'\n",
       "91. 'FMRGTP'\n",
       "92. 'FMRGXP'\n",
       "93. 'FMVYP'\n",
       "94. 'FPLMP'\n",
       "95. 'FRMSP'\n",
       "96. 'FRNTMP'\n",
       "97. 'FRNTP'\n",
       "98. 'FSMP'\n",
       "99. 'FSMXHP'\n",
       "100. 'FSMXSP'\n",
       "101. 'FTAXP'\n",
       "102. 'FTELP'\n",
       "103. 'FTENP'\n",
       "104. 'FVACSP'\n",
       "105. 'FVALP'\n",
       "106. 'FVEHP'\n",
       "107. 'FWATP'\n",
       "108. 'FYBLP'\n",
       "109. 'wgtp1'\n",
       "110. 'wgtp2'\n",
       "111. 'wgtp3'\n",
       "112. 'wgtp4'\n",
       "113. 'wgtp5'\n",
       "114. 'wgtp6'\n",
       "115. 'wgtp7'\n",
       "116. 'wgtp8'\n",
       "117. 'wgtp9'\n",
       "118. 'wgtp10'\n",
       "119. 'wgtp11'\n",
       "120. 'wgtp12'\n",
       "121. 'wgtp13'\n",
       "122. 'wgtp14'\n",
       "123. 'wgtp15'\n",
       "124. 'wgtp16'\n",
       "125. 'wgtp17'\n",
       "126. 'wgtp18'\n",
       "127. 'wgtp19'\n",
       "128. 'wgtp20'\n",
       "129. 'wgtp21'\n",
       "130. 'wgtp22'\n",
       "131. 'wgtp23'\n",
       "132. 'wgtp24'\n",
       "133. 'wgtp25'\n",
       "134. 'wgtp26'\n",
       "135. 'wgtp27'\n",
       "136. 'wgtp28'\n",
       "137. 'wgtp29'\n",
       "138. 'wgtp30'\n",
       "139. 'wgtp31'\n",
       "140. 'wgtp32'\n",
       "141. 'wgtp33'\n",
       "142. 'wgtp34'\n",
       "143. 'wgtp35'\n",
       "144. 'wgtp36'\n",
       "145. 'wgtp37'\n",
       "146. 'wgtp38'\n",
       "147. 'wgtp39'\n",
       "148. 'wgtp40'\n",
       "149. 'wgtp41'\n",
       "150. 'wgtp42'\n",
       "151. 'wgtp43'\n",
       "152. 'wgtp44'\n",
       "153. 'wgtp45'\n",
       "154. 'wgtp46'\n",
       "155. 'wgtp47'\n",
       "156. 'wgtp48'\n",
       "157. 'wgtp49'\n",
       "158. 'wgtp50'\n",
       "159. 'wgtp51'\n",
       "160. 'wgtp52'\n",
       "161. 'wgtp53'\n",
       "162. 'wgtp54'\n",
       "163. 'wgtp55'\n",
       "164. 'wgtp56'\n",
       "165. 'wgtp57'\n",
       "166. 'wgtp58'\n",
       "167. 'wgtp59'\n",
       "168. 'wgtp60'\n",
       "169. 'wgtp61'\n",
       "170. 'wgtp62'\n",
       "171. 'wgtp63'\n",
       "172. 'wgtp64'\n",
       "173. 'wgtp65'\n",
       "174. 'wgtp66'\n",
       "175. 'wgtp67'\n",
       "176. 'wgtp68'\n",
       "177. 'wgtp69'\n",
       "178. 'wgtp70'\n",
       "179. 'wgtp71'\n",
       "180. 'wgtp72'\n",
       "181. 'wgtp73'\n",
       "182. 'wgtp74'\n",
       "183. 'wgtp75'\n",
       "184. 'wgtp76'\n",
       "185. 'wgtp77'\n",
       "186. 'wgtp78'\n",
       "187. 'wgtp79'\n",
       "188. 'wgtp80'\n",
       "\n",
       "\n"
      ],
      "text/plain": [
       "  [1] \"RT\"       \"SERIALNO\" \"DIVISION\" \"PUMA\"     \"REGION\"   \"ST\"      \n",
       "  [7] \"ADJUST\"   \"WGTP\"     \"NP\"       \"TYPE\"     \"ACR\"      \"AGS\"     \n",
       " [13] \"BDS\"      \"BLD\"      \"BUS\"      \"CONP\"     \"ELEP\"     \"FS\"      \n",
       " [19] \"FULP\"     \"GASP\"     \"HFL\"      \"INSP\"     \"KIT\"      \"MHP\"     \n",
       " [25] \"MRGI\"     \"MRGP\"     \"MRGT\"     \"MRGX\"     \"PLM\"      \"RMS\"     \n",
       " [31] \"RNTM\"     \"RNTP\"     \"SMP\"      \"TEL\"      \"TEN\"      \"VACS\"    \n",
       " [37] \"VAL\"      \"VEH\"      \"WATP\"     \"YBL\"      \"FES\"      \"FINCP\"   \n",
       " [43] \"FPARC\"    \"GRNTP\"    \"GRPIP\"    \"HHL\"      \"HHT\"      \"HINCP\"   \n",
       " [49] \"HUGCL\"    \"HUPAC\"    \"HUPAOC\"   \"HUPARC\"   \"LNGI\"     \"MV\"      \n",
       " [55] \"NOC\"      \"NPF\"      \"NPP\"      \"NR\"       \"NRC\"      \"OCPIP\"   \n",
       " [61] \"PARTNER\"  \"PSF\"      \"R18\"      \"R60\"      \"R65\"      \"RESMODE\" \n",
       " [67] \"SMOCP\"    \"SMX\"      \"SRNT\"     \"SVAL\"     \"TAXP\"     \"WIF\"     \n",
       " [73] \"WKEXREL\"  \"WORKSTAT\" \"FACRP\"    \"FAGSP\"    \"FBDSP\"    \"FBLDP\"   \n",
       " [79] \"FBUSP\"    \"FCONP\"    \"FELEP\"    \"FFSP\"     \"FFULP\"    \"FGASP\"   \n",
       " [85] \"FHFLP\"    \"FINSP\"    \"FKITP\"    \"FMHP\"     \"FMRGIP\"   \"FMRGP\"   \n",
       " [91] \"FMRGTP\"   \"FMRGXP\"   \"FMVYP\"    \"FPLMP\"    \"FRMSP\"    \"FRNTMP\"  \n",
       " [97] \"FRNTP\"    \"FSMP\"     \"FSMXHP\"   \"FSMXSP\"   \"FTAXP\"    \"FTELP\"   \n",
       "[103] \"FTENP\"    \"FVACSP\"   \"FVALP\"    \"FVEHP\"    \"FWATP\"    \"FYBLP\"   \n",
       "[109] \"wgtp1\"    \"wgtp2\"    \"wgtp3\"    \"wgtp4\"    \"wgtp5\"    \"wgtp6\"   \n",
       "[115] \"wgtp7\"    \"wgtp8\"    \"wgtp9\"    \"wgtp10\"   \"wgtp11\"   \"wgtp12\"  \n",
       "[121] \"wgtp13\"   \"wgtp14\"   \"wgtp15\"   \"wgtp16\"   \"wgtp17\"   \"wgtp18\"  \n",
       "[127] \"wgtp19\"   \"wgtp20\"   \"wgtp21\"   \"wgtp22\"   \"wgtp23\"   \"wgtp24\"  \n",
       "[133] \"wgtp25\"   \"wgtp26\"   \"wgtp27\"   \"wgtp28\"   \"wgtp29\"   \"wgtp30\"  \n",
       "[139] \"wgtp31\"   \"wgtp32\"   \"wgtp33\"   \"wgtp34\"   \"wgtp35\"   \"wgtp36\"  \n",
       "[145] \"wgtp37\"   \"wgtp38\"   \"wgtp39\"   \"wgtp40\"   \"wgtp41\"   \"wgtp42\"  \n",
       "[151] \"wgtp43\"   \"wgtp44\"   \"wgtp45\"   \"wgtp46\"   \"wgtp47\"   \"wgtp48\"  \n",
       "[157] \"wgtp49\"   \"wgtp50\"   \"wgtp51\"   \"wgtp52\"   \"wgtp53\"   \"wgtp54\"  \n",
       "[163] \"wgtp55\"   \"wgtp56\"   \"wgtp57\"   \"wgtp58\"   \"wgtp59\"   \"wgtp60\"  \n",
       "[169] \"wgtp61\"   \"wgtp62\"   \"wgtp63\"   \"wgtp64\"   \"wgtp65\"   \"wgtp66\"  \n",
       "[175] \"wgtp67\"   \"wgtp68\"   \"wgtp69\"   \"wgtp70\"   \"wgtp71\"   \"wgtp72\"  \n",
       "[181] \"wgtp73\"   \"wgtp74\"   \"wgtp75\"   \"wgtp76\"   \"wgtp77\"   \"wgtp78\"  \n",
       "[187] \"wgtp79\"   \"wgtp80\"  "
      ]
     },
     "metadata": {},
     "output_type": "display_data"
    }
   ],
   "source": [
    "names(data1)"
   ]
  },
  {
   "cell_type": "code",
   "execution_count": 114,
   "metadata": {},
   "outputs": [
    {
     "data": {
      "text/html": [
       "<ol>\n",
       "\t<li><ol class=list-inline>\n",
       "\t<li>''</li>\n",
       "\t<li>'15'</li>\n",
       "</ol>\n",
       "</li>\n",
       "</ol>\n"
      ],
      "text/latex": [
       "\\begin{enumerate}\n",
       "\\item \\begin{enumerate*}\n",
       "\\item ''\n",
       "\\item '15'\n",
       "\\end{enumerate*}\n",
       "\n",
       "\\end{enumerate}\n"
      ],
      "text/markdown": [
       "1. 1. ''\n",
       "2. '15'\n",
       "\n",
       "\n",
       "\n",
       "\n",
       "\n"
      ],
      "text/plain": [
       "[[1]]\n",
       "[1] \"\"   \"15\"\n"
      ]
     },
     "metadata": {},
     "output_type": "display_data"
    }
   ],
   "source": [
    "strsplit(names(data1), \"wgtp\")[123]"
   ]
  },
  {
   "cell_type": "markdown",
   "metadata": {},
   "source": [
    "### Question \n",
    "Load the Gross Domestic Product data for the 190 ranked countries in this data set:\n",
    "\n",
    "https://d396qusza40orc.cloudfront.net/getdata%2Fdata%2FGDP.csv\n",
    "\n",
    "Remove the commas from the GDP numbers in millions of dollars and average them. What is the average?\n",
    "\n",
    "Original data sources:\n",
    "\n",
    "http://data.worldbank.org/data-catalog/GDP-ranking-table"
   ]
  },
  {
   "cell_type": "code",
   "execution_count": 115,
   "metadata": {},
   "outputs": [
    {
     "name": "stderr",
     "output_type": "stream",
     "text": [
      "Parsed with column specification:\n",
      "cols(\n",
      "  X1 = col_character(),\n",
      "  X2 = col_integer(),\n",
      "  X3 = col_character(),\n",
      "  X4 = col_character(),\n",
      "  X5 = col_character(),\n",
      "  X6 = col_character()\n",
      ")\n"
     ]
    }
   ],
   "source": [
    "GDPdata <- read_csv(\"F:/learningr/coursera_Getting and Cleaning Data/data/GDP.csv\",\n",
    "                    skip = 5,\n",
    "                   col_names = FALSE)"
   ]
  },
  {
   "cell_type": "code",
   "execution_count": 116,
   "metadata": {},
   "outputs": [],
   "source": [
    "commas <- function(str)  gsub(pattern = \",|\\\\s\" ,\"\", str)\n",
    "tidyData <- GDPdata[, c(\"X1\",\"X2\",\"X4\",\"X5\")] %>% drop_na(\"X5\")\n",
    "tidyData[\"X5\"] <- sapply(tidyData[\"X5\"],commas)"
   ]
  },
  {
   "cell_type": "code",
   "execution_count": 117,
   "metadata": {},
   "outputs": [],
   "source": [
    "# # x[which(x$var>2)),]\n",
    "# Data <- tidyData$X5[which(nchar(tidyData$X5) >3)]\n",
    "# Data <- mean(as.numeric(Data))"
   ]
  },
  {
   "cell_type": "code",
   "execution_count": 118,
   "metadata": {
    "code_folding": []
   },
   "outputs": [],
   "source": [
    "data2<- tidyData[!grepl(\"\\\\.\",tidyData$X5), ]"
   ]
  },
  {
   "cell_type": "code",
   "execution_count": 119,
   "metadata": {
    "scrolled": true
   },
   "outputs": [
    {
     "data": {
      "text/html": [
       "<table>\n",
       "<thead><tr><th scope=col>X1</th><th scope=col>X2</th><th scope=col>X4</th><th scope=col>X5</th></tr></thead>\n",
       "<tbody>\n",
       "\t<tr><td>USA               </td><td> 1                </td><td>United States     </td><td>16244600          </td></tr>\n",
       "\t<tr><td>CHN               </td><td> 2                </td><td>China             </td><td> 8227103          </td></tr>\n",
       "\t<tr><td>JPN               </td><td> 3                </td><td>Japan             </td><td> 5959718          </td></tr>\n",
       "\t<tr><td>DEU               </td><td> 4                </td><td>Germany           </td><td> 3428131          </td></tr>\n",
       "\t<tr><td>FRA               </td><td> 5                </td><td>France            </td><td> 2612878          </td></tr>\n",
       "\t<tr><td>GBR               </td><td> 6                </td><td>United Kingdom    </td><td> 2471784          </td></tr>\n",
       "\t<tr><td>BRA               </td><td> 7                </td><td>Brazil            </td><td> 2252664          </td></tr>\n",
       "\t<tr><td>RUS               </td><td> 8                </td><td>Russian Federation</td><td> 2014775          </td></tr>\n",
       "\t<tr><td>ITA               </td><td> 9                </td><td>Italy             </td><td> 2014670          </td></tr>\n",
       "\t<tr><td>IND               </td><td>10                </td><td>India             </td><td> 1841710          </td></tr>\n",
       "\t<tr><td>CAN               </td><td>11                </td><td>Canada            </td><td> 1821424          </td></tr>\n",
       "\t<tr><td>AUS               </td><td>12                </td><td>Australia         </td><td> 1532408          </td></tr>\n",
       "\t<tr><td>ESP               </td><td>13                </td><td>Spain             </td><td> 1322965          </td></tr>\n",
       "\t<tr><td>MEX               </td><td>14                </td><td>Mexico            </td><td> 1178126          </td></tr>\n",
       "\t<tr><td>KOR               </td><td>15                </td><td>Korea, Rep.       </td><td> 1129598          </td></tr>\n",
       "\t<tr><td>IDN               </td><td>16                </td><td>Indonesia         </td><td>  878043          </td></tr>\n",
       "\t<tr><td>TUR               </td><td>17                </td><td>Turkey            </td><td>  789257          </td></tr>\n",
       "\t<tr><td>NLD               </td><td>18                </td><td>Netherlands       </td><td>  770555          </td></tr>\n",
       "\t<tr><td>SAU               </td><td>19                </td><td>Saudi Arabia      </td><td>  711050          </td></tr>\n",
       "\t<tr><td>CHE               </td><td>20                </td><td>Switzerland       </td><td>  631173          </td></tr>\n",
       "\t<tr><td>SWE               </td><td>21                </td><td>Sweden            </td><td>  523806          </td></tr>\n",
       "\t<tr><td>IRN               </td><td>22                </td><td>Iran, Islamic Rep.</td><td>  514060          </td></tr>\n",
       "\t<tr><td>NOR               </td><td>23                </td><td>Norway            </td><td>  499667          </td></tr>\n",
       "\t<tr><td>POL               </td><td>24                </td><td>Poland            </td><td>  489795          </td></tr>\n",
       "\t<tr><td>BEL               </td><td>25                </td><td>Belgium           </td><td>  483262          </td></tr>\n",
       "\t<tr><td>ARG               </td><td>26                </td><td>Argentina         </td><td>  475502          </td></tr>\n",
       "\t<tr><td>AUT               </td><td>27                </td><td>Austria           </td><td>  394708          </td></tr>\n",
       "\t<tr><td>ZAF               </td><td>28                </td><td>South Africa      </td><td>  384313          </td></tr>\n",
       "\t<tr><td>VEN               </td><td>29                </td><td>Venezuela, RB     </td><td>  381286          </td></tr>\n",
       "\t<tr><td>COL               </td><td>30                </td><td>Colombia          </td><td>  369606          </td></tr>\n",
       "\t<tr><td>...</td><td>...</td><td>...</td><td>...</td></tr>\n",
       "\t<tr><td>GMB                           </td><td>175                           </td><td>Gambia, The                   </td><td>     917                      </td></tr>\n",
       "\t<tr><td>GNB                           </td><td>176                           </td><td>Guinea-Bissau                 </td><td>     822                      </td></tr>\n",
       "\t<tr><td>VUT                           </td><td>177                           </td><td>Vanuatu                       </td><td>     787                      </td></tr>\n",
       "\t<tr><td>GRD                           </td><td>178                           </td><td>Grenada                       </td><td>     767                      </td></tr>\n",
       "\t<tr><td>KNA                           </td><td>178                           </td><td>St. Kitts and Nevis           </td><td>     767                      </td></tr>\n",
       "\t<tr><td>VCT                           </td><td>180                           </td><td>St. Vincent and the Grenadines</td><td>     713                      </td></tr>\n",
       "\t<tr><td>WSM                           </td><td>181                           </td><td>Samoa                         </td><td>     684                      </td></tr>\n",
       "\t<tr><td>COM                           </td><td>182                           </td><td>Comoros                       </td><td>     596                      </td></tr>\n",
       "\t<tr><td>DMA                           </td><td>183                           </td><td>Dominica                      </td><td>     480                      </td></tr>\n",
       "\t<tr><td>TON                           </td><td>184                           </td><td>Tonga                         </td><td>     472                      </td></tr>\n",
       "\t<tr><td>FSM                           </td><td>185                           </td><td>Micronesia, Fed. Sts.         </td><td>     326                      </td></tr>\n",
       "\t<tr><td>STP                                                                         </td><td>186                                                                         </td><td><span style=white-space:pre-wrap>S&lt;e3&gt;o Tom?and Principe       </span></td><td><span style=white-space:pre-wrap>     263</span>                            </td></tr>\n",
       "\t<tr><td>PLW                           </td><td>187                           </td><td>Palau                         </td><td>     228                      </td></tr>\n",
       "\t<tr><td>MHL                           </td><td>188                           </td><td>Marshall Islands              </td><td>     182                      </td></tr>\n",
       "\t<tr><td>KIR                           </td><td>189                           </td><td>Kiribati                      </td><td>     175                      </td></tr>\n",
       "\t<tr><td>TUV                           </td><td>190                           </td><td>Tuvalu                        </td><td>      40                      </td></tr>\n",
       "\t<tr><td>WLD                           </td><td> NA                           </td><td>World                         </td><td>72440449                      </td></tr>\n",
       "\t<tr><td>LIC                           </td><td> NA                           </td><td>Low income                    </td><td>  504431                      </td></tr>\n",
       "\t<tr><td>MIC                           </td><td> NA                           </td><td>Middle income                 </td><td>22249909                      </td></tr>\n",
       "\t<tr><td>LMC                           </td><td> NA                           </td><td>Lower middle income           </td><td> 4823811                      </td></tr>\n",
       "\t<tr><td>UMC                           </td><td> NA                           </td><td>Upper middle income           </td><td>17426690                      </td></tr>\n",
       "\t<tr><td>LMY                                                                       </td><td> NA                                                                       </td><td><span style=white-space:pre-wrap>Low &amp; middle income           </span></td><td>22769282                                                                  </td></tr>\n",
       "\t<tr><td>EAP                                                                       </td><td> NA                                                                       </td><td><span style=white-space:pre-wrap>East Asia &amp; Pacific           </span></td><td>10329684                                                                  </td></tr>\n",
       "\t<tr><td>ECA                                                                       </td><td> NA                                                                       </td><td><span style=white-space:pre-wrap>Europe &amp; Central Asia         </span></td><td> 1887950                                                                  </td></tr>\n",
       "\t<tr><td>LAC                                                                       </td><td> NA                                                                       </td><td><span style=white-space:pre-wrap>Latin America &amp; Caribbean     </span></td><td> 5344028                                                                  </td></tr>\n",
       "\t<tr><td>MNA                                                                       </td><td> NA                                                                       </td><td><span style=white-space:pre-wrap>Middle East &amp; North Africa    </span></td><td> 1540807                                                                  </td></tr>\n",
       "\t<tr><td>SAS                           </td><td> NA                           </td><td>South Asia                    </td><td> 2286093                      </td></tr>\n",
       "\t<tr><td>SSA                           </td><td> NA                           </td><td>Sub-Saharan Africa            </td><td> 1289813                      </td></tr>\n",
       "\t<tr><td>HIC                           </td><td> NA                           </td><td>High income                   </td><td>49717634                      </td></tr>\n",
       "\t<tr><td>EMU                           </td><td> NA                           </td><td>Euro area                     </td><td>12192344                      </td></tr>\n",
       "</tbody>\n",
       "</table>\n"
      ],
      "text/latex": [
       "\\begin{tabular}{r|llll}\n",
       " X1 & X2 & X4 & X5\\\\\n",
       "\\hline\n",
       "\t USA                &  1                 & United States      & 16244600          \\\\\n",
       "\t CHN                &  2                 & China              &  8227103          \\\\\n",
       "\t JPN                &  3                 & Japan              &  5959718          \\\\\n",
       "\t DEU                &  4                 & Germany            &  3428131          \\\\\n",
       "\t FRA                &  5                 & France             &  2612878          \\\\\n",
       "\t GBR                &  6                 & United Kingdom     &  2471784          \\\\\n",
       "\t BRA                &  7                 & Brazil             &  2252664          \\\\\n",
       "\t RUS                &  8                 & Russian Federation &  2014775          \\\\\n",
       "\t ITA                &  9                 & Italy              &  2014670          \\\\\n",
       "\t IND                & 10                 & India              &  1841710          \\\\\n",
       "\t CAN                & 11                 & Canada             &  1821424          \\\\\n",
       "\t AUS                & 12                 & Australia          &  1532408          \\\\\n",
       "\t ESP                & 13                 & Spain              &  1322965          \\\\\n",
       "\t MEX                & 14                 & Mexico             &  1178126          \\\\\n",
       "\t KOR                & 15                 & Korea, Rep.        &  1129598          \\\\\n",
       "\t IDN                & 16                 & Indonesia          &   878043          \\\\\n",
       "\t TUR                & 17                 & Turkey             &   789257          \\\\\n",
       "\t NLD                & 18                 & Netherlands        &   770555          \\\\\n",
       "\t SAU                & 19                 & Saudi Arabia       &   711050          \\\\\n",
       "\t CHE                & 20                 & Switzerland        &   631173          \\\\\n",
       "\t SWE                & 21                 & Sweden             &   523806          \\\\\n",
       "\t IRN                & 22                 & Iran, Islamic Rep. &   514060          \\\\\n",
       "\t NOR                & 23                 & Norway             &   499667          \\\\\n",
       "\t POL                & 24                 & Poland             &   489795          \\\\\n",
       "\t BEL                & 25                 & Belgium            &   483262          \\\\\n",
       "\t ARG                & 26                 & Argentina          &   475502          \\\\\n",
       "\t AUT                & 27                 & Austria            &   394708          \\\\\n",
       "\t ZAF                & 28                 & South Africa       &   384313          \\\\\n",
       "\t VEN                & 29                 & Venezuela, RB      &   381286          \\\\\n",
       "\t COL                & 30                 & Colombia           &   369606          \\\\\n",
       "\t ... & ... & ... & ...\\\\\n",
       "\t GMB                            & 175                            & Gambia, The                    &      917                      \\\\\n",
       "\t GNB                            & 176                            & Guinea-Bissau                  &      822                      \\\\\n",
       "\t VUT                            & 177                            & Vanuatu                        &      787                      \\\\\n",
       "\t GRD                            & 178                            & Grenada                        &      767                      \\\\\n",
       "\t KNA                            & 178                            & St. Kitts and Nevis            &      767                      \\\\\n",
       "\t VCT                            & 180                            & St. Vincent and the Grenadines &      713                      \\\\\n",
       "\t WSM                            & 181                            & Samoa                          &      684                      \\\\\n",
       "\t COM                            & 182                            & Comoros                        &      596                      \\\\\n",
       "\t DMA                            & 183                            & Dominica                       &      480                      \\\\\n",
       "\t TON                            & 184                            & Tonga                          &      472                      \\\\\n",
       "\t FSM                            & 185                            & Micronesia, Fed. Sts.          &      326                      \\\\\n",
       "\t STP                            & 186                            & S<e3>o Tom?and Principe        &      263                      \\\\\n",
       "\t PLW                            & 187                            & Palau                          &      228                      \\\\\n",
       "\t MHL                            & 188                            & Marshall Islands               &      182                      \\\\\n",
       "\t KIR                            & 189                            & Kiribati                       &      175                      \\\\\n",
       "\t TUV                            & 190                            & Tuvalu                         &       40                      \\\\\n",
       "\t WLD                            &  NA                            & World                          & 72440449                      \\\\\n",
       "\t LIC                            &  NA                            & Low income                     &   504431                      \\\\\n",
       "\t MIC                            &  NA                            & Middle income                  & 22249909                      \\\\\n",
       "\t LMC                            &  NA                            & Lower middle income            &  4823811                      \\\\\n",
       "\t UMC                            &  NA                            & Upper middle income            & 17426690                      \\\\\n",
       "\t LMY                              &  NA                              & Low \\& middle income            & 22769282                        \\\\\n",
       "\t EAP                              &  NA                              & East Asia \\& Pacific            & 10329684                        \\\\\n",
       "\t ECA                              &  NA                              & Europe \\& Central Asia          &  1887950                        \\\\\n",
       "\t LAC                              &  NA                              & Latin America \\& Caribbean      &  5344028                        \\\\\n",
       "\t MNA                              &  NA                              & Middle East \\& North Africa     &  1540807                        \\\\\n",
       "\t SAS                            &  NA                            & South Asia                     &  2286093                      \\\\\n",
       "\t SSA                            &  NA                            & Sub-Saharan Africa             &  1289813                      \\\\\n",
       "\t HIC                            &  NA                            & High income                    & 49717634                      \\\\\n",
       "\t EMU                            &  NA                            & Euro area                      & 12192344                      \\\\\n",
       "\\end{tabular}\n"
      ],
      "text/markdown": [
       "\n",
       "X1 | X2 | X4 | X5 | \n",
       "|---|---|---|---|---|---|---|---|---|---|---|---|---|---|---|---|---|---|---|---|---|---|---|---|---|---|---|---|---|---|---|---|---|---|---|---|---|---|---|---|---|---|---|---|---|---|---|---|---|---|---|---|---|---|---|---|---|---|---|---|---|\n",
       "| USA                |  1                 | United States      | 16244600           | \n",
       "| CHN                |  2                 | China              |  8227103           | \n",
       "| JPN                |  3                 | Japan              |  5959718           | \n",
       "| DEU                |  4                 | Germany            |  3428131           | \n",
       "| FRA                |  5                 | France             |  2612878           | \n",
       "| GBR                |  6                 | United Kingdom     |  2471784           | \n",
       "| BRA                |  7                 | Brazil             |  2252664           | \n",
       "| RUS                |  8                 | Russian Federation |  2014775           | \n",
       "| ITA                |  9                 | Italy              |  2014670           | \n",
       "| IND                | 10                 | India              |  1841710           | \n",
       "| CAN                | 11                 | Canada             |  1821424           | \n",
       "| AUS                | 12                 | Australia          |  1532408           | \n",
       "| ESP                | 13                 | Spain              |  1322965           | \n",
       "| MEX                | 14                 | Mexico             |  1178126           | \n",
       "| KOR                | 15                 | Korea, Rep.        |  1129598           | \n",
       "| IDN                | 16                 | Indonesia          |   878043           | \n",
       "| TUR                | 17                 | Turkey             |   789257           | \n",
       "| NLD                | 18                 | Netherlands        |   770555           | \n",
       "| SAU                | 19                 | Saudi Arabia       |   711050           | \n",
       "| CHE                | 20                 | Switzerland        |   631173           | \n",
       "| SWE                | 21                 | Sweden             |   523806           | \n",
       "| IRN                | 22                 | Iran, Islamic Rep. |   514060           | \n",
       "| NOR                | 23                 | Norway             |   499667           | \n",
       "| POL                | 24                 | Poland             |   489795           | \n",
       "| BEL                | 25                 | Belgium            |   483262           | \n",
       "| ARG                | 26                 | Argentina          |   475502           | \n",
       "| AUT                | 27                 | Austria            |   394708           | \n",
       "| ZAF                | 28                 | South Africa       |   384313           | \n",
       "| VEN                | 29                 | Venezuela, RB      |   381286           | \n",
       "| COL                | 30                 | Colombia           |   369606           | \n",
       "| ... | ... | ... | ... | \n",
       "| GMB                            | 175                            | Gambia, The                    |      917                       | \n",
       "| GNB                            | 176                            | Guinea-Bissau                  |      822                       | \n",
       "| VUT                            | 177                            | Vanuatu                        |      787                       | \n",
       "| GRD                            | 178                            | Grenada                        |      767                       | \n",
       "| KNA                            | 178                            | St. Kitts and Nevis            |      767                       | \n",
       "| VCT                            | 180                            | St. Vincent and the Grenadines |      713                       | \n",
       "| WSM                            | 181                            | Samoa                          |      684                       | \n",
       "| COM                            | 182                            | Comoros                        |      596                       | \n",
       "| DMA                            | 183                            | Dominica                       |      480                       | \n",
       "| TON                            | 184                            | Tonga                          |      472                       | \n",
       "| FSM                            | 185                            | Micronesia, Fed. Sts.          |      326                       | \n",
       "| STP                            | 186                            | S<e3>o Tom?and Principe        |      263                       | \n",
       "| PLW                            | 187                            | Palau                          |      228                       | \n",
       "| MHL                            | 188                            | Marshall Islands               |      182                       | \n",
       "| KIR                            | 189                            | Kiribati                       |      175                       | \n",
       "| TUV                            | 190                            | Tuvalu                         |       40                       | \n",
       "| WLD                            |  NA                            | World                          | 72440449                       | \n",
       "| LIC                            |  NA                            | Low income                     |   504431                       | \n",
       "| MIC                            |  NA                            | Middle income                  | 22249909                       | \n",
       "| LMC                            |  NA                            | Lower middle income            |  4823811                       | \n",
       "| UMC                            |  NA                            | Upper middle income            | 17426690                       | \n",
       "| LMY                            |  NA                            | Low & middle income            | 22769282                       | \n",
       "| EAP                            |  NA                            | East Asia & Pacific            | 10329684                       | \n",
       "| ECA                            |  NA                            | Europe & Central Asia          |  1887950                       | \n",
       "| LAC                            |  NA                            | Latin America & Caribbean      |  5344028                       | \n",
       "| MNA                            |  NA                            | Middle East & North Africa     |  1540807                       | \n",
       "| SAS                            |  NA                            | South Asia                     |  2286093                       | \n",
       "| SSA                            |  NA                            | Sub-Saharan Africa             |  1289813                       | \n",
       "| HIC                            |  NA                            | High income                    | 49717634                       | \n",
       "| EMU                            |  NA                            | Euro area                      | 12192344                       | \n",
       "\n",
       "\n"
      ],
      "text/plain": [
       "    X1  X2  X4                             X5      \n",
       "1   USA  1  United States                  16244600\n",
       "2   CHN  2  China                           8227103\n",
       "3   JPN  3  Japan                           5959718\n",
       "4   DEU  4  Germany                         3428131\n",
       "5   FRA  5  France                          2612878\n",
       "6   GBR  6  United Kingdom                  2471784\n",
       "7   BRA  7  Brazil                          2252664\n",
       "8   RUS  8  Russian Federation              2014775\n",
       "9   ITA  9  Italy                           2014670\n",
       "10  IND 10  India                           1841710\n",
       "11  CAN 11  Canada                          1821424\n",
       "12  AUS 12  Australia                       1532408\n",
       "13  ESP 13  Spain                           1322965\n",
       "14  MEX 14  Mexico                          1178126\n",
       "15  KOR 15  Korea, Rep.                     1129598\n",
       "16  IDN 16  Indonesia                        878043\n",
       "17  TUR 17  Turkey                           789257\n",
       "18  NLD 18  Netherlands                      770555\n",
       "19  SAU 19  Saudi Arabia                     711050\n",
       "20  CHE 20  Switzerland                      631173\n",
       "21  SWE 21  Sweden                           523806\n",
       "22  IRN 22  Iran, Islamic Rep.               514060\n",
       "23  NOR 23  Norway                           499667\n",
       "24  POL 24  Poland                           489795\n",
       "25  BEL 25  Belgium                          483262\n",
       "26  ARG 26  Argentina                        475502\n",
       "27  AUT 27  Austria                          394708\n",
       "28  ZAF 28  South Africa                     384313\n",
       "29  VEN 29  Venezuela, RB                    381286\n",
       "30  COL 30  Colombia                         369606\n",
       "... ... ... ...                            ...     \n",
       "175 GMB 175 Gambia, The                         917\n",
       "176 GNB 176 Guinea-Bissau                       822\n",
       "177 VUT 177 Vanuatu                             787\n",
       "178 GRD 178 Grenada                             767\n",
       "179 KNA 178 St. Kitts and Nevis                 767\n",
       "180 VCT 180 St. Vincent and the Grenadines      713\n",
       "181 WSM 181 Samoa                               684\n",
       "182 COM 182 Comoros                             596\n",
       "183 DMA 183 Dominica                            480\n",
       "184 TON 184 Tonga                               472\n",
       "185 FSM 185 Micronesia, Fed. Sts.               326\n",
       "186 STP 186 S<e3>o Tom?and Principe             263\n",
       "187 PLW 187 Palau                               228\n",
       "188 MHL 188 Marshall Islands                    182\n",
       "189 KIR 189 Kiribati                            175\n",
       "190 TUV 190 Tuvalu                               40\n",
       "191 WLD  NA World                          72440449\n",
       "192 LIC  NA Low income                       504431\n",
       "193 MIC  NA Middle income                  22249909\n",
       "194 LMC  NA Lower middle income             4823811\n",
       "195 UMC  NA Upper middle income            17426690\n",
       "196 LMY  NA Low & middle income            22769282\n",
       "197 EAP  NA East Asia & Pacific            10329684\n",
       "198 ECA  NA Europe & Central Asia           1887950\n",
       "199 LAC  NA Latin America & Caribbean       5344028\n",
       "200 MNA  NA Middle East & North Africa      1540807\n",
       "201 SAS  NA South Asia                      2286093\n",
       "202 SSA  NA Sub-Saharan Africa              1289813\n",
       "203 HIC  NA High income                    49717634\n",
       "204 EMU  NA Euro area                      12192344"
      ]
     },
     "metadata": {},
     "output_type": "display_data"
    }
   ],
   "source": [
    "data2$X5 <- as.numeric(data$X5)\n",
    "data2"
   ]
  },
  {
   "cell_type": "code",
   "execution_count": 120,
   "metadata": {
    "scrolled": true
   },
   "outputs": [
    {
     "data": {
      "text/html": [
       "1289377.76086957"
      ],
      "text/latex": [
       "1289377.76086957"
      ],
      "text/markdown": [
       "1289377.76086957"
      ],
      "text/plain": [
       "[1] 1289378"
      ]
     },
     "metadata": {},
     "output_type": "display_data"
    },
    {
     "data": {
      "text/plain": [
       "      X1                  X2              X4                  X5          \n",
       " Length:204         Min.   :  1.00   Length:204         Min.   :      40  \n",
       " Class :character   1st Qu.: 48.25   Class :character   1st Qu.:    7772  \n",
       " Mode  :character   Median : 95.50   Mode  :character   Median :   36871  \n",
       "                    Mean   : 95.49                      Mean   : 1453710  \n",
       "                    3rd Qu.:142.75                      3rd Qu.:  262939  \n",
       "                    Max.   :190.00                      Max.   :72440449  \n",
       "                    NA's   :14                                            "
      ]
     },
     "metadata": {},
     "output_type": "display_data"
    }
   ],
   "source": [
    "sum(data2['X5'])/nrow(GDPdata )\n",
    "summary(data2)"
   ]
  },
  {
   "cell_type": "code",
   "execution_count": 121,
   "metadata": {},
   "outputs": [
    {
     "data": {
      "text/plain": [
       "      X1                  X2              X4                  X5          \n",
       " Length:190         Min.   :  1.00   Length:190         Min.   :      40  \n",
       " Class :character   1st Qu.: 48.25   Class :character   1st Qu.:    7005  \n",
       " Mode  :character   Median : 95.50   Mode  :character   Median :   27638  \n",
       "                    Mean   : 95.49                      Mean   :  377652  \n",
       "                    3rd Qu.:142.75                      3rd Qu.:  205289  \n",
       "                    Max.   :190.00                      Max.   :16244600  "
      ]
     },
     "metadata": {},
     "output_type": "display_data"
    }
   ],
   "source": [
    "# for the 190 ranked countries in this data set\n",
    "data2 <- data2[!is.na(data2$X2),]\n",
    "summary(data2)"
   ]
  },
  {
   "cell_type": "markdown",
   "metadata": {},
   "source": [
    "###  Question\n",
    "In the data set from Question 2 what is a regular expression that would allow you to count the number of countries whose name begins with \"United\"? Assume that the variable with the country names in it is named countryNames. How many countries begin with United?"
   ]
  },
  {
   "cell_type": "code",
   "execution_count": 122,
   "metadata": {},
   "outputs": [
    {
     "data": {
      "text/html": [
       "<ol class=list-inline>\n",
       "\t<li>1</li>\n",
       "\t<li>6</li>\n",
       "\t<li>32</li>\n",
       "</ol>\n"
      ],
      "text/latex": [
       "\\begin{enumerate*}\n",
       "\\item 1\n",
       "\\item 6\n",
       "\\item 32\n",
       "\\end{enumerate*}\n"
      ],
      "text/markdown": [
       "1. 1\n",
       "2. 6\n",
       "3. 32\n",
       "\n",
       "\n"
      ],
      "text/plain": [
       "[1]  1  6 32"
      ]
     },
     "metadata": {},
     "output_type": "display_data"
    }
   ],
   "source": [
    "grep(\"^United\", GDPdata$X4)"
   ]
  },
  {
   "cell_type": "markdown",
   "metadata": {},
   "source": [
    "### Question\n",
    "Load the Gross Domestic Product data for the 190 ranked countries in this data set:\n",
    "\n",
    "https://d396qusza40orc.cloudfront.net/getdata%2Fdata%2FGDP.csv\n",
    "\n",
    "Load the educational data from this data set:\n",
    "\n",
    "https://d396qusza40orc.cloudfront.net/getdata%2Fdata%2FEDSTATS_Country.csv\n",
    "\n",
    "Match the data based on the country shortcode. Of the countries for which the end of the fiscal year is available, how many end in June?\n",
    "\n",
    "Original data sources:\n",
    "\n",
    "http://data.worldbank.org/data-catalog/GDP-ranking-table\n",
    "\n",
    "http://data.worldbank.org/data-catalog/ed-stats"
   ]
  },
  {
   "cell_type": "code",
   "execution_count": 123,
   "metadata": {},
   "outputs": [
    {
     "name": "stderr",
     "output_type": "stream",
     "text": [
      "Parsed with column specification:\n",
      "cols(\n",
      "  .default = col_character(),\n",
      "  `National accounts reference year` = col_integer(),\n",
      "  `System of National Accounts` = col_integer(),\n",
      "  `PPP survey year` = col_integer(),\n",
      "  `Latest industrial data` = col_integer(),\n",
      "  `Latest trade data` = col_integer(),\n",
      "  `Latest water withdrawal data` = col_integer()\n",
      ")\n",
      "See spec(...) for full column specifications.\n"
     ]
    },
    {
     "data": {
      "text/html": [
       "<table>\n",
       "<thead><tr><th scope=col>CountryCode</th><th scope=col>Special Notes</th></tr></thead>\n",
       "<tbody>\n",
       "\t<tr><td>ABW                                                                        </td><td>NA                                                                         </td></tr>\n",
       "\t<tr><td>ADO                                                                        </td><td>NA                                                                         </td></tr>\n",
       "\t<tr><td>AFG                                                                        </td><td>Fiscal year end: March 20; reporting period for national accounts data: FY.</td></tr>\n",
       "\t<tr><td>AGO                                                                        </td><td>NA                                                                         </td></tr>\n",
       "\t<tr><td>ALB                                                                        </td><td>NA                                                                         </td></tr>\n",
       "\t<tr><td>ARE                                                                        </td><td>NA                                                                         </td></tr>\n",
       "</tbody>\n",
       "</table>\n"
      ],
      "text/latex": [
       "\\begin{tabular}{r|ll}\n",
       " CountryCode & Special Notes\\\\\n",
       "\\hline\n",
       "\t ABW                                                                         & NA                                                                         \\\\\n",
       "\t ADO                                                                         & NA                                                                         \\\\\n",
       "\t AFG                                                                         & Fiscal year end: March 20; reporting period for national accounts data: FY.\\\\\n",
       "\t AGO                                                                         & NA                                                                         \\\\\n",
       "\t ALB                                                                         & NA                                                                         \\\\\n",
       "\t ARE                                                                         & NA                                                                         \\\\\n",
       "\\end{tabular}\n"
      ],
      "text/markdown": [
       "\n",
       "CountryCode | Special Notes | \n",
       "|---|---|---|---|---|---|\n",
       "| ABW                                                                         | NA                                                                          | \n",
       "| ADO                                                                         | NA                                                                          | \n",
       "| AFG                                                                         | Fiscal year end: March 20; reporting period for national accounts data: FY. | \n",
       "| AGO                                                                         | NA                                                                          | \n",
       "| ALB                                                                         | NA                                                                          | \n",
       "| ARE                                                                         | NA                                                                          | \n",
       "\n",
       "\n"
      ],
      "text/plain": [
       "  CountryCode\n",
       "1 ABW        \n",
       "2 ADO        \n",
       "3 AFG        \n",
       "4 AGO        \n",
       "5 ALB        \n",
       "6 ARE        \n",
       "  Special Notes                                                              \n",
       "1 NA                                                                         \n",
       "2 NA                                                                         \n",
       "3 Fiscal year end: March 20; reporting period for national accounts data: FY.\n",
       "4 NA                                                                         \n",
       "5 NA                                                                         \n",
       "6 NA                                                                         "
      ]
     },
     "metadata": {},
     "output_type": "display_data"
    }
   ],
   "source": [
    "#Match the data based on the country shortcode\n",
    "data4<-  read_csv(\"F:/learningr/coursera_Getting and Cleaning Data/data/EDSTATS_Country.csv\")[,c(\"CountryCode\", \"Special Notes\")]\n",
    "head(data4)\n",
    "# data4[!is.na(data4['Special Notes'])]"
   ]
  },
  {
   "cell_type": "code",
   "execution_count": 124,
   "metadata": {},
   "outputs": [
    {
     "data": {
      "text/html": [
       "<table>\n",
       "<thead><tr><th scope=col>CountryCode</th><th scope=col>Special Notes</th></tr></thead>\n",
       "<tbody>\n",
       "\t<tr><td>AFG                                                                                                                                                                                                                                                                                                                                                                 </td><td>Fiscal year end: March 20; reporting period for national accounts data: FY.                                                                                                                                                                                                                                                                                         </td></tr>\n",
       "\t<tr><td>ATG                                                                                                                                                                                                                                                                                                                                                                 </td><td>The government has revised national accounts data for 1998-2008.                                                                                                                                                                                                                                                                                                    </td></tr>\n",
       "\t<tr><td>AUS                                                                                                                                                                                                                                                                                                                                                                 </td><td>Fiscal year end: June 30; reporting period for national accounts data: FY.                                                                                                                                                                                                                                                                                          </td></tr>\n",
       "\t<tr><td>AUT                                                                                                                                                                                                                                                                                                                                                                 </td><td>A simple multiplier is used to convert the national currencies of EMU members to euros. The following irrevocable euro conversion rate was adopted by the EU Council on January 1, 1999: 1 euro = 13.7603 Austrian schilling. Please note that historical data before 1999 are not actual euros and are not comparable or suitable for aggregation across countries.</td></tr>\n",
       "\t<tr><td>BEL                                                                                                                                                                                                                                                                                                                                                                 </td><td>A simple multiplier is used to convert the national currencies of EMU members to euros. The following irrevocable euro conversion rate was adopted by the EU Council on January 1, 1999: 1 euro = 40.3399 Belgian franc. Please note that historical data before 1999 are not actual euros and are not comparable or suitable for aggregation across countries.     </td></tr>\n",
       "\t<tr><td>BGD                                                                                                                                                                                                                                                                                                                                                                 </td><td>Fiscal year end: June 30; reporting period for national accounts data: FY.                                                                                                                                                                                                                                                                                          </td></tr>\n",
       "</tbody>\n",
       "</table>\n"
      ],
      "text/latex": [
       "\\begin{tabular}{r|ll}\n",
       " CountryCode & Special Notes\\\\\n",
       "\\hline\n",
       "\t AFG                                                                                                                                                                                                                                                                                                                                                                  & Fiscal year end: March 20; reporting period for national accounts data: FY.                                                                                                                                                                                                                                                                                         \\\\\n",
       "\t ATG                                                                                                                                                                                                                                                                                                                                                                  & The government has revised national accounts data for 1998-2008.                                                                                                                                                                                                                                                                                                    \\\\\n",
       "\t AUS                                                                                                                                                                                                                                                                                                                                                                  & Fiscal year end: June 30; reporting period for national accounts data: FY.                                                                                                                                                                                                                                                                                          \\\\\n",
       "\t AUT                                                                                                                                                                                                                                                                                                                                                                  & A simple multiplier is used to convert the national currencies of EMU members to euros. The following irrevocable euro conversion rate was adopted by the EU Council on January 1, 1999: 1 euro = 13.7603 Austrian schilling. Please note that historical data before 1999 are not actual euros and are not comparable or suitable for aggregation across countries.\\\\\n",
       "\t BEL                                                                                                                                                                                                                                                                                                                                                                  & A simple multiplier is used to convert the national currencies of EMU members to euros. The following irrevocable euro conversion rate was adopted by the EU Council on January 1, 1999: 1 euro = 40.3399 Belgian franc. Please note that historical data before 1999 are not actual euros and are not comparable or suitable for aggregation across countries.     \\\\\n",
       "\t BGD                                                                                                                                                                                                                                                                                                                                                                  & Fiscal year end: June 30; reporting period for national accounts data: FY.                                                                                                                                                                                                                                                                                          \\\\\n",
       "\\end{tabular}\n"
      ],
      "text/markdown": [
       "\n",
       "CountryCode | Special Notes | \n",
       "|---|---|---|---|---|---|\n",
       "| AFG                                                                                                                                                                                                                                                                                                                                                                  | Fiscal year end: March 20; reporting period for national accounts data: FY.                                                                                                                                                                                                                                                                                          | \n",
       "| ATG                                                                                                                                                                                                                                                                                                                                                                  | The government has revised national accounts data for 1998-2008.                                                                                                                                                                                                                                                                                                     | \n",
       "| AUS                                                                                                                                                                                                                                                                                                                                                                  | Fiscal year end: June 30; reporting period for national accounts data: FY.                                                                                                                                                                                                                                                                                           | \n",
       "| AUT                                                                                                                                                                                                                                                                                                                                                                  | A simple multiplier is used to convert the national currencies of EMU members to euros. The following irrevocable euro conversion rate was adopted by the EU Council on January 1, 1999: 1 euro = 13.7603 Austrian schilling. Please note that historical data before 1999 are not actual euros and are not comparable or suitable for aggregation across countries. | \n",
       "| BEL                                                                                                                                                                                                                                                                                                                                                                  | A simple multiplier is used to convert the national currencies of EMU members to euros. The following irrevocable euro conversion rate was adopted by the EU Council on January 1, 1999: 1 euro = 40.3399 Belgian franc. Please note that historical data before 1999 are not actual euros and are not comparable or suitable for aggregation across countries.      | \n",
       "| BGD                                                                                                                                                                                                                                                                                                                                                                  | Fiscal year end: June 30; reporting period for national accounts data: FY.                                                                                                                                                                                                                                                                                           | \n",
       "\n",
       "\n"
      ],
      "text/plain": [
       "  CountryCode\n",
       "1 AFG        \n",
       "2 ATG        \n",
       "3 AUS        \n",
       "4 AUT        \n",
       "5 BEL        \n",
       "6 BGD        \n",
       "  Special Notes                                                                                                                                                                                                                                                                                                                                                       \n",
       "1 Fiscal year end: March 20; reporting period for national accounts data: FY.                                                                                                                                                                                                                                                                                         \n",
       "2 The government has revised national accounts data for 1998-2008.                                                                                                                                                                                                                                                                                                    \n",
       "3 Fiscal year end: June 30; reporting period for national accounts data: FY.                                                                                                                                                                                                                                                                                          \n",
       "4 A simple multiplier is used to convert the national currencies of EMU members to euros. The following irrevocable euro conversion rate was adopted by the EU Council on January 1, 1999: 1 euro = 13.7603 Austrian schilling. Please note that historical data before 1999 are not actual euros and are not comparable or suitable for aggregation across countries.\n",
       "5 A simple multiplier is used to convert the national currencies of EMU members to euros. The following irrevocable euro conversion rate was adopted by the EU Council on January 1, 1999: 1 euro = 40.3399 Belgian franc. Please note that historical data before 1999 are not actual euros and are not comparable or suitable for aggregation across countries.     \n",
       "6 Fiscal year end: June 30; reporting period for national accounts data: FY.                                                                                                                                                                                                                                                                                          "
      ]
     },
     "metadata": {},
     "output_type": "display_data"
    }
   ],
   "source": [
    "data4 <- na.omit(data4)\n",
    "head(data4,6)"
   ]
  },
  {
   "cell_type": "code",
   "execution_count": 125,
   "metadata": {},
   "outputs": [
    {
     "data": {
      "text/html": [
       "<table>\n",
       "<thead><tr><th scope=col>CountryCode</th><th scope=col>Special Notes</th></tr></thead>\n",
       "<tbody>\n",
       "\t<tr><td>AUS                                                                       </td><td>Fiscal year end: June 30; reporting period for national accounts data: FY.</td></tr>\n",
       "\t<tr><td>BGD                                                                       </td><td>Fiscal year end: June 30; reporting period for national accounts data: FY.</td></tr>\n",
       "\t<tr><td>BWA                                                                       </td><td>Fiscal year end: June 30; reporting period for national accounts data: FY.</td></tr>\n",
       "\t<tr><td>EGY                                                                       </td><td>Fiscal year end: June 30; reporting period for national accounts data: FY.</td></tr>\n",
       "\t<tr><td>GMB                                                                       </td><td>Fiscal year end: June 30; reporting period for national accounts data: CY.</td></tr>\n",
       "</tbody>\n",
       "</table>\n"
      ],
      "text/latex": [
       "\\begin{tabular}{r|ll}\n",
       " CountryCode & Special Notes\\\\\n",
       "\\hline\n",
       "\t AUS                                                                        & Fiscal year end: June 30; reporting period for national accounts data: FY.\\\\\n",
       "\t BGD                                                                        & Fiscal year end: June 30; reporting period for national accounts data: FY.\\\\\n",
       "\t BWA                                                                        & Fiscal year end: June 30; reporting period for national accounts data: FY.\\\\\n",
       "\t EGY                                                                        & Fiscal year end: June 30; reporting period for national accounts data: FY.\\\\\n",
       "\t GMB                                                                        & Fiscal year end: June 30; reporting period for national accounts data: CY.\\\\\n",
       "\\end{tabular}\n"
      ],
      "text/markdown": [
       "\n",
       "CountryCode | Special Notes | \n",
       "|---|---|---|---|---|\n",
       "| AUS                                                                        | Fiscal year end: June 30; reporting period for national accounts data: FY. | \n",
       "| BGD                                                                        | Fiscal year end: June 30; reporting period for national accounts data: FY. | \n",
       "| BWA                                                                        | Fiscal year end: June 30; reporting period for national accounts data: FY. | \n",
       "| EGY                                                                        | Fiscal year end: June 30; reporting period for national accounts data: FY. | \n",
       "| GMB                                                                        | Fiscal year end: June 30; reporting period for national accounts data: CY. | \n",
       "\n",
       "\n"
      ],
      "text/plain": [
       "  CountryCode\n",
       "1 AUS        \n",
       "2 BGD        \n",
       "3 BWA        \n",
       "4 EGY        \n",
       "5 GMB        \n",
       "  Special Notes                                                             \n",
       "1 Fiscal year end: June 30; reporting period for national accounts data: FY.\n",
       "2 Fiscal year end: June 30; reporting period for national accounts data: FY.\n",
       "3 Fiscal year end: June 30; reporting period for national accounts data: FY.\n",
       "4 Fiscal year end: June 30; reporting period for national accounts data: FY.\n",
       "5 Fiscal year end: June 30; reporting period for national accounts data: CY."
      ]
     },
     "metadata": {},
     "output_type": "display_data"
    }
   ],
   "source": [
    "#子集选取 x[(x$var1<=3&X$var3>11), ]\n",
    "data4 <- data4[c(grep('^Fiscal year end: June',data4[[2]])),]\n",
    "head(data4,5)"
   ]
  },
  {
   "cell_type": "code",
   "execution_count": 126,
   "metadata": {},
   "outputs": [
    {
     "data": {
      "text/html": [
       "13"
      ],
      "text/latex": [
       "13"
      ],
      "text/markdown": [
       "13"
      ],
      "text/plain": [
       "[1] 13"
      ]
     },
     "metadata": {},
     "output_type": "display_data"
    }
   ],
   "source": [
    "nrow(data4)"
   ]
  },
  {
   "cell_type": "code",
   "execution_count": 127,
   "metadata": {},
   "outputs": [
    {
     "data": {
      "text/html": [
       "13"
      ],
      "text/latex": [
       "13"
      ],
      "text/markdown": [
       "13"
      ],
      "text/plain": [
       "[1] 13"
      ]
     },
     "metadata": {},
     "output_type": "display_data"
    }
   ],
   "source": [
    "#连接两个表CountryCode中排名在190名之内的\n",
    "# c(2,4,5) %in% c(2,4,6,2)\n",
    "nrow(data4[c(data4[[1]]%in% data2[[1]]),])"
   ]
  },
  {
   "cell_type": "markdown",
   "metadata": {},
   "source": [
    "### Question 5\n",
    "You can use the quantmod (http://www.quantmod.com/) package to get historical stock prices for publicly traded companies on the NASDAQ and NYSE. Use the following code to download data on Amazon's stock price and get the times the data was sampled.\n",
    "```{r}\n",
    "library(quantmod)\n",
    "amzn = getSymbols(\"AMZN\",auto.assign=FALSE)\n",
    "sampleTimes = index(amzn)\n",
    "```\n",
    "How many values were collected in 2012? How many values were collected on Mondays in 2012?"
   ]
  },
  {
   "cell_type": "code",
   "execution_count": 128,
   "metadata": {},
   "outputs": [],
   "source": [
    "library(quantmod)\n",
    "amzn = getSymbols(\"AMZN\",auto.assign=FALSE)\n",
    "sampleTimes = index(amzn)"
   ]
  },
  {
   "cell_type": "code",
   "execution_count": 129,
   "metadata": {
    "scrolled": true
   },
   "outputs": [
    {
     "data": {
      "text/plain": [
       "           AMZN.Open AMZN.High AMZN.Low AMZN.Close AMZN.Volume AMZN.Adjusted\n",
       "2018-05-31   1623.00   1635.00  1621.35    1629.62     3166300       1629.62\n",
       "2018-06-01   1637.03   1646.73  1635.09    1641.54     3290100       1641.54\n",
       "2018-06-04   1648.90   1665.68  1645.49    1665.27     3167900       1665.27\n",
       "2018-06-05   1672.99   1699.00  1670.06    1696.35     4719000       1696.35"
      ]
     },
     "metadata": {},
     "output_type": "display_data"
    }
   ],
   "source": [
    "tail(amzn,4)"
   ]
  },
  {
   "cell_type": "code",
   "execution_count": 130,
   "metadata": {},
   "outputs": [
    {
     "data": {
      "text/html": [
       "<ol class=list-inline>\n",
       "\t<li><time datetime=\"2007-01-03\">2007-01-03</time></li>\n",
       "\t<li><time datetime=\"2007-01-04\">2007-01-04</time></li>\n",
       "\t<li><time datetime=\"2007-01-05\">2007-01-05</time></li>\n",
       "\t<li><time datetime=\"2007-01-08\">2007-01-08</time></li>\n",
       "\t<li><time datetime=\"2007-01-09\">2007-01-09</time></li>\n",
       "\t<li><time datetime=\"2007-01-10\">2007-01-10</time></li>\n",
       "</ol>\n"
      ],
      "text/latex": [
       "\\begin{enumerate*}\n",
       "\\item 2007-01-03\n",
       "\\item 2007-01-04\n",
       "\\item 2007-01-05\n",
       "\\item 2007-01-08\n",
       "\\item 2007-01-09\n",
       "\\item 2007-01-10\n",
       "\\end{enumerate*}\n"
      ],
      "text/markdown": [
       "1. 2007-01-03\n",
       "2. 2007-01-04\n",
       "3. 2007-01-05\n",
       "4. 2007-01-08\n",
       "5. 2007-01-09\n",
       "6. 2007-01-10\n",
       "\n",
       "\n"
      ],
      "text/plain": [
       "[1] \"2007-01-03\" \"2007-01-04\" \"2007-01-05\" \"2007-01-08\" \"2007-01-09\"\n",
       "[6] \"2007-01-10\""
      ]
     },
     "metadata": {},
     "output_type": "display_data"
    }
   ],
   "source": [
    "head(sampleTimes)"
   ]
  },
  {
   "cell_type": "code",
   "execution_count": 131,
   "metadata": {},
   "outputs": [
    {
     "data": {
      "text/html": [
       "250"
      ],
      "text/latex": [
       "250"
      ],
      "text/markdown": [
       "250"
      ],
      "text/plain": [
       "[1] 250"
      ]
     },
     "metadata": {},
     "output_type": "display_data"
    }
   ],
   "source": [
    "# How many values were collected in 2012? How many values were collected on Mondays in 2012?\n",
    "library(\"lubridate\")\n",
    "sum(sapply(sampleTimes,year)==2012)"
   ]
  },
  {
   "cell_type": "code",
   "execution_count": 132,
   "metadata": {},
   "outputs": [
    {
     "data": {
      "text/html": [
       "47"
      ],
      "text/latex": [
       "47"
      ],
      "text/markdown": [
       "47"
      ],
      "text/plain": [
       "[1] 47"
      ]
     },
     "metadata": {},
     "output_type": "display_data"
    }
   ],
   "source": [
    "data5 <- sampleTimes[c(sapply(sampleTimes,year)==2012)] \n",
    "sum(sapply(data5, weekdays)==\"星期一\")\n"
   ]
  },
  {
   "cell_type": "code",
   "execution_count": null,
   "metadata": {},
   "outputs": [],
   "source": []
  }
 ],
 "metadata": {
  "kernelspec": {
   "display_name": "R",
   "language": "R",
   "name": "ir"
  },
  "language_info": {
   "codemirror_mode": "r",
   "file_extension": ".r",
   "mimetype": "text/x-r-source",
   "name": "R",
   "pygments_lexer": "r",
   "version": "3.4.2"
  },
  "toc": {
   "nav_menu": {},
   "number_sections": true,
   "sideBar": true,
   "skip_h1_title": false,
   "title_cell": "Table of Contents",
   "title_sidebar": "Contents",
   "toc_cell": false,
   "toc_position": {},
   "toc_section_display": true,
   "toc_window_display": false
  }
 },
 "nbformat": 4,
 "nbformat_minor": 2
}
