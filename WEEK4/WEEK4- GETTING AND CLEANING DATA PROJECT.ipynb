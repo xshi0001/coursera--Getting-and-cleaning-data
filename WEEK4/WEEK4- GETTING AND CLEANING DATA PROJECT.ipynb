{
 "cells": [
  {
   "cell_type": "markdown",
   "metadata": {},
   "source": [
    "<h2 align=\"center\">Getting and Cleaning Data Project</h2>"
   ]
  },
  {
   "cell_type": "markdown",
   "metadata": {},
   "source": [
    "\n",
    "<img src=\"https://gratisography.com/thumbnails/gratisography-440-thumbnail.jpg\",width=600,height=350>\n"
   ]
  },
  {
   "cell_type": "markdown",
   "metadata": {},
   "source": [
    "###  Merges the training and the test sets to create one data set"
   ]
  },
  {
   "cell_type": "code",
   "execution_count": 63,
   "metadata": {},
   "outputs": [],
   "source": [
    "#put the data together\n",
    "library(\"tidyverse\")"
   ]
  },
  {
   "cell_type": "code",
   "execution_count": 64,
   "metadata": {},
   "outputs": [],
   "source": [
    "##set the workspace\n",
    "setwd(\"F:/learningr/coursera_Getting and Cleaning Data/data/projectData/UCI HAR Dataset/\")"
   ]
  },
  {
   "cell_type": "code",
   "execution_count": 65,
   "metadata": {},
   "outputs": [],
   "source": [
    "ReadData <- function(paths){\n",
    "    #dinfine an empty dataframe\n",
    "    DataSets <- data.frame()\n",
    "    for(path in paths){\n",
    "        fileNames <- list.files(path, pattern = \".txt$\", full.names = TRUE)\n",
    "        data <- lapply(fileNames, function(x){\n",
    "             read.table(x)})  #read data as list\n",
    "        data <- as.data.frame(data) # list to data.frame\n",
    "        #get data header\n",
    "        #X_part\n",
    "        headerFiles<- list.files(pattern = \"features.txt$\", full.names = TRUE)\n",
    "        featuresLabels<- read.table(headerFiles,stringsAsFactors=FALSE)\n",
    "        #y_part\n",
    "        columns_y <- list(562,\"activity_labels\")\n",
    "        #subject_part\n",
    "        columns_subject  <- list(0,\"subject\")\n",
    "        #rbind the three part header\n",
    "        columns = rbind(columns_subject,featuresLabels,columns_y, stringsAsFactors=FALSE)\n",
    "        # give data the colums name\n",
    "        colnames(data) = columns$V2\n",
    "        # rbind the data to Dataset\n",
    "        DataSets <- rbind(DataSets,data, stringsAsFactors=FALSE)\n",
    "    }\n",
    "    DataSets\n",
    "}\n",
    "\n",
    "UCIData <- ReadData(paths = c(\"./train\",\"./test\"))"
   ]
  },
  {
   "cell_type": "code",
   "execution_count": 66,
   "metadata": {},
   "outputs": [
    {
     "data": {
      "text/html": [
       "<table>\n",
       "<thead><tr><th></th><th scope=col>subject</th><th scope=col>tBodyAcc-mean()-X</th><th scope=col>tBodyAcc-mean()-Y</th><th scope=col>tBodyAcc-mean()-Z</th><th scope=col>tBodyAcc-std()-X</th><th scope=col>tBodyAcc-std()-Y</th><th scope=col>tBodyAcc-std()-Z</th><th scope=col>tBodyAcc-mad()-X</th><th scope=col>tBodyAcc-mad()-Y</th><th scope=col>tBodyAcc-mad()-Z</th><th scope=col>...</th><th scope=col>fBodyBodyGyroJerkMag-skewness()</th><th scope=col>fBodyBodyGyroJerkMag-kurtosis()</th><th scope=col>angle(tBodyAccMean,gravity)</th><th scope=col>angle(tBodyAccJerkMean),gravityMean)</th><th scope=col>angle(tBodyGyroMean,gravityMean)</th><th scope=col>angle(tBodyGyroJerkMean,gravityMean)</th><th scope=col>angle(X,gravityMean)</th><th scope=col>angle(Y,gravityMean)</th><th scope=col>angle(Z,gravityMean)</th><th scope=col>activity_labels</th></tr></thead>\n",
       "<tbody>\n",
       "\t<tr><th scope=row>10294</th><td>24          </td><td>0.1922746   </td><td>-0.03364257 </td><td>-0.10594911 </td><td>-0.3548408  </td><td>-0.09250435 </td><td>-0.3129097  </td><td>-0.4335793  </td><td>-0.08874147 </td><td>-0.3360597  </td><td>...         </td><td>-0.6296568  </td><td>-0.9164934  </td><td> 0.5359827  </td><td> 0.68930613 </td><td>-0.9366065  </td><td> 0.562374870</td><td>-0.6467543  </td><td>0.2821502   </td><td>0.1811516   </td><td>2           </td></tr>\n",
       "\t<tr><th scope=row>10295</th><td>24          </td><td>0.3101546   </td><td>-0.05339125 </td><td>-0.09910872 </td><td>-0.2878663  </td><td>-0.14058918 </td><td>-0.2150877  </td><td>-0.3560832  </td><td>-0.14877483 </td><td>-0.2320573  </td><td>...         </td><td>-0.3762778  </td><td>-0.7508091  </td><td>-0.3374216  </td><td> 0.34629489 </td><td> 0.8849038  </td><td>-0.698885080</td><td>-0.6517323  </td><td>0.2746268   </td><td>0.1847843   </td><td>2           </td></tr>\n",
       "\t<tr><th scope=row>10296</th><td>24          </td><td>0.3633846   </td><td>-0.03921402 </td><td>-0.10591509 </td><td>-0.3053880  </td><td> 0.02814774 </td><td>-0.1963729  </td><td>-0.3735398  </td><td>-0.03003604 </td><td>-0.2702367  </td><td>...         </td><td>-0.3204179  </td><td>-0.7002742  </td><td>-0.7367010  </td><td>-0.37288894 </td><td>-0.6574205  </td><td> 0.322548500</td><td>-0.6551809  </td><td>0.2735783   </td><td>0.1824121   </td><td>2           </td></tr>\n",
       "\t<tr><th scope=row>10297</th><td>24          </td><td>0.3499661   </td><td> 0.03007744 </td><td>-0.11578796 </td><td>-0.3296381  </td><td>-0.04214289 </td><td>-0.2501807  </td><td>-0.3880170  </td><td>-0.13325698 </td><td>-0.3470290  </td><td>...         </td><td>-0.1188535  </td><td>-0.4671792  </td><td>-0.1815604  </td><td> 0.08857407 </td><td> 0.6966635  </td><td> 0.363138710</td><td>-0.6553568  </td><td>0.2744788   </td><td>0.1811835   </td><td>2           </td></tr>\n",
       "\t<tr><th scope=row>10298</th><td>24          </td><td>0.2375938   </td><td> 0.01846687 </td><td>-0.09649893 </td><td>-0.3231143  </td><td>-0.22977539 </td><td>-0.2075736  </td><td>-0.3923802  </td><td>-0.27961019 </td><td>-0.2894774  </td><td>...         </td><td>-0.2054451  </td><td>-0.6177365  </td><td> 0.4445577  </td><td>-0.81918771 </td><td> 0.9292941  </td><td>-0.008398249</td><td>-0.6597186  </td><td>0.2647816   </td><td>0.1875629   </td><td>2           </td></tr>\n",
       "\t<tr><th scope=row>10299</th><td>24          </td><td>0.1536272   </td><td>-0.01843651 </td><td>-0.13701846 </td><td>-0.3300460  </td><td>-0.19525335 </td><td>-0.1643388  </td><td>-0.4309738  </td><td>-0.21829465 </td><td>-0.2299329  </td><td>...         </td><td>-0.0722371  </td><td>-0.4369400  </td><td> 0.5988082  </td><td>-0.28795067 </td><td> 0.8760299  </td><td>-0.024965139</td><td>-0.6600802  </td><td>0.2639362   </td><td>0.1881034   </td><td>2           </td></tr>\n",
       "</tbody>\n",
       "</table>\n"
      ],
      "text/latex": [
       "\\begin{tabular}{r|lllllllllllllllllllllllllllllllllllllllllllllllllllllllllllllllllllllllllllllllllllllllllllllllllllllllllllllllllllllllllllllllllllllllllllllllllllllllllllllllllllllllllllllllllllllllllllllllllllllllllllllllllllllllllllllllllllllllllllllllllllllllllllllllllllllllllllllllllllllllllllllllllllllllllllllllllllllllllllllllllllllllllllllllllllllllllllllllllllllllllllllllllllllllllllllllllllllllllllllllllllllllllllllllllllllllllllllllllllllllllllllllllllllllllllllllllllllllllllllllllllllllllllllllllllllllllllllllllllllllllllllllllllllllllllllllllllllllllllllllllll}\n",
       "  & subject & tBodyAcc-mean()-X & tBodyAcc-mean()-Y & tBodyAcc-mean()-Z & tBodyAcc-std()-X & tBodyAcc-std()-Y & tBodyAcc-std()-Z & tBodyAcc-mad()-X & tBodyAcc-mad()-Y & tBodyAcc-mad()-Z & ... & fBodyBodyGyroJerkMag-skewness() & fBodyBodyGyroJerkMag-kurtosis() & angle(tBodyAccMean,gravity) & angle(tBodyAccJerkMean),gravityMean) & angle(tBodyGyroMean,gravityMean) & angle(tBodyGyroJerkMean,gravityMean) & angle(X,gravityMean) & angle(Y,gravityMean) & angle(Z,gravityMean) & activity\\_labels\\\\\n",
       "\\hline\n",
       "\t10294 & 24           & 0.1922746    & -0.03364257  & -0.10594911  & -0.3548408   & -0.09250435  & -0.3129097   & -0.4335793   & -0.08874147  & -0.3360597   & ...          & -0.6296568   & -0.9164934   &  0.5359827   &  0.68930613  & -0.9366065   &  0.562374870 & -0.6467543   & 0.2821502    & 0.1811516    & 2           \\\\\n",
       "\t10295 & 24           & 0.3101546    & -0.05339125  & -0.09910872  & -0.2878663   & -0.14058918  & -0.2150877   & -0.3560832   & -0.14877483  & -0.2320573   & ...          & -0.3762778   & -0.7508091   & -0.3374216   &  0.34629489  &  0.8849038   & -0.698885080 & -0.6517323   & 0.2746268    & 0.1847843    & 2           \\\\\n",
       "\t10296 & 24           & 0.3633846    & -0.03921402  & -0.10591509  & -0.3053880   &  0.02814774  & -0.1963729   & -0.3735398   & -0.03003604  & -0.2702367   & ...          & -0.3204179   & -0.7002742   & -0.7367010   & -0.37288894  & -0.6574205   &  0.322548500 & -0.6551809   & 0.2735783    & 0.1824121    & 2           \\\\\n",
       "\t10297 & 24           & 0.3499661    &  0.03007744  & -0.11578796  & -0.3296381   & -0.04214289  & -0.2501807   & -0.3880170   & -0.13325698  & -0.3470290   & ...          & -0.1188535   & -0.4671792   & -0.1815604   &  0.08857407  &  0.6966635   &  0.363138710 & -0.6553568   & 0.2744788    & 0.1811835    & 2           \\\\\n",
       "\t10298 & 24           & 0.2375938    &  0.01846687  & -0.09649893  & -0.3231143   & -0.22977539  & -0.2075736   & -0.3923802   & -0.27961019  & -0.2894774   & ...          & -0.2054451   & -0.6177365   &  0.4445577   & -0.81918771  &  0.9292941   & -0.008398249 & -0.6597186   & 0.2647816    & 0.1875629    & 2           \\\\\n",
       "\t10299 & 24           & 0.1536272    & -0.01843651  & -0.13701846  & -0.3300460   & -0.19525335  & -0.1643388   & -0.4309738   & -0.21829465  & -0.2299329   & ...          & -0.0722371   & -0.4369400   &  0.5988082   & -0.28795067  &  0.8760299   & -0.024965139 & -0.6600802   & 0.2639362    & 0.1881034    & 2           \\\\\n",
       "\\end{tabular}\n"
      ],
      "text/markdown": [
       "\n",
       "| <!--/--> | subject | tBodyAcc-mean()-X | tBodyAcc-mean()-Y | tBodyAcc-mean()-Z | tBodyAcc-std()-X | tBodyAcc-std()-Y | tBodyAcc-std()-Z | tBodyAcc-mad()-X | tBodyAcc-mad()-Y | tBodyAcc-mad()-Z | ... | fBodyBodyGyroJerkMag-skewness() | fBodyBodyGyroJerkMag-kurtosis() | angle(tBodyAccMean,gravity) | angle(tBodyAccJerkMean),gravityMean) | angle(tBodyGyroMean,gravityMean) | angle(tBodyGyroJerkMean,gravityMean) | angle(X,gravityMean) | angle(Y,gravityMean) | angle(Z,gravityMean) | activity_labels | \n",
       "|---|---|---|---|---|---|\n",
       "| 10294 | 24           | 0.1922746    | -0.03364257  | -0.10594911  | -0.3548408   | -0.09250435  | -0.3129097   | -0.4335793   | -0.08874147  | -0.3360597   | ...          | -0.6296568   | -0.9164934   |  0.5359827   |  0.68930613  | -0.9366065   |  0.562374870 | -0.6467543   | 0.2821502    | 0.1811516    | 2            | \n",
       "| 10295 | 24           | 0.3101546    | -0.05339125  | -0.09910872  | -0.2878663   | -0.14058918  | -0.2150877   | -0.3560832   | -0.14877483  | -0.2320573   | ...          | -0.3762778   | -0.7508091   | -0.3374216   |  0.34629489  |  0.8849038   | -0.698885080 | -0.6517323   | 0.2746268    | 0.1847843    | 2            | \n",
       "| 10296 | 24           | 0.3633846    | -0.03921402  | -0.10591509  | -0.3053880   |  0.02814774  | -0.1963729   | -0.3735398   | -0.03003604  | -0.2702367   | ...          | -0.3204179   | -0.7002742   | -0.7367010   | -0.37288894  | -0.6574205   |  0.322548500 | -0.6551809   | 0.2735783    | 0.1824121    | 2            | \n",
       "| 10297 | 24           | 0.3499661    |  0.03007744  | -0.11578796  | -0.3296381   | -0.04214289  | -0.2501807   | -0.3880170   | -0.13325698  | -0.3470290   | ...          | -0.1188535   | -0.4671792   | -0.1815604   |  0.08857407  |  0.6966635   |  0.363138710 | -0.6553568   | 0.2744788    | 0.1811835    | 2            | \n",
       "| 10298 | 24           | 0.2375938    |  0.01846687  | -0.09649893  | -0.3231143   | -0.22977539  | -0.2075736   | -0.3923802   | -0.27961019  | -0.2894774   | ...          | -0.2054451   | -0.6177365   |  0.4445577   | -0.81918771  |  0.9292941   | -0.008398249 | -0.6597186   | 0.2647816    | 0.1875629    | 2            | \n",
       "| 10299 | 24           | 0.1536272    | -0.01843651  | -0.13701846  | -0.3300460   | -0.19525335  | -0.1643388   | -0.4309738   | -0.21829465  | -0.2299329   | ...          | -0.0722371   | -0.4369400   |  0.5988082   | -0.28795067  |  0.8760299   | -0.024965139 | -0.6600802   | 0.2639362    | 0.1881034    | 2            | \n",
       "\n",
       "\n"
      ],
      "text/plain": [
       "      subject tBodyAcc-mean()-X tBodyAcc-mean()-Y tBodyAcc-mean()-Z\n",
       "10294 24      0.1922746         -0.03364257       -0.10594911      \n",
       "10295 24      0.3101546         -0.05339125       -0.09910872      \n",
       "10296 24      0.3633846         -0.03921402       -0.10591509      \n",
       "10297 24      0.3499661          0.03007744       -0.11578796      \n",
       "10298 24      0.2375938          0.01846687       -0.09649893      \n",
       "10299 24      0.1536272         -0.01843651       -0.13701846      \n",
       "      tBodyAcc-std()-X tBodyAcc-std()-Y tBodyAcc-std()-Z tBodyAcc-mad()-X\n",
       "10294 -0.3548408       -0.09250435      -0.3129097       -0.4335793      \n",
       "10295 -0.2878663       -0.14058918      -0.2150877       -0.3560832      \n",
       "10296 -0.3053880        0.02814774      -0.1963729       -0.3735398      \n",
       "10297 -0.3296381       -0.04214289      -0.2501807       -0.3880170      \n",
       "10298 -0.3231143       -0.22977539      -0.2075736       -0.3923802      \n",
       "10299 -0.3300460       -0.19525335      -0.1643388       -0.4309738      \n",
       "      tBodyAcc-mad()-Y tBodyAcc-mad()-Z ... fBodyBodyGyroJerkMag-skewness()\n",
       "10294 -0.08874147      -0.3360597       ... -0.6296568                     \n",
       "10295 -0.14877483      -0.2320573       ... -0.3762778                     \n",
       "10296 -0.03003604      -0.2702367       ... -0.3204179                     \n",
       "10297 -0.13325698      -0.3470290       ... -0.1188535                     \n",
       "10298 -0.27961019      -0.2894774       ... -0.2054451                     \n",
       "10299 -0.21829465      -0.2299329       ... -0.0722371                     \n",
       "      fBodyBodyGyroJerkMag-kurtosis() angle(tBodyAccMean,gravity)\n",
       "10294 -0.9164934                       0.5359827                 \n",
       "10295 -0.7508091                      -0.3374216                 \n",
       "10296 -0.7002742                      -0.7367010                 \n",
       "10297 -0.4671792                      -0.1815604                 \n",
       "10298 -0.6177365                       0.4445577                 \n",
       "10299 -0.4369400                       0.5988082                 \n",
       "      angle(tBodyAccJerkMean),gravityMean) angle(tBodyGyroMean,gravityMean)\n",
       "10294  0.68930613                          -0.9366065                      \n",
       "10295  0.34629489                           0.8849038                      \n",
       "10296 -0.37288894                          -0.6574205                      \n",
       "10297  0.08857407                           0.6966635                      \n",
       "10298 -0.81918771                           0.9292941                      \n",
       "10299 -0.28795067                           0.8760299                      \n",
       "      angle(tBodyGyroJerkMean,gravityMean) angle(X,gravityMean)\n",
       "10294  0.562374870                         -0.6467543          \n",
       "10295 -0.698885080                         -0.6517323          \n",
       "10296  0.322548500                         -0.6551809          \n",
       "10297  0.363138710                         -0.6553568          \n",
       "10298 -0.008398249                         -0.6597186          \n",
       "10299 -0.024965139                         -0.6600802          \n",
       "      angle(Y,gravityMean) angle(Z,gravityMean) activity_labels\n",
       "10294 0.2821502            0.1811516            2              \n",
       "10295 0.2746268            0.1847843            2              \n",
       "10296 0.2735783            0.1824121            2              \n",
       "10297 0.2744788            0.1811835            2              \n",
       "10298 0.2647816            0.1875629            2              \n",
       "10299 0.2639362            0.1881034            2              "
      ]
     },
     "metadata": {},
     "output_type": "display_data"
    }
   ],
   "source": [
    "tail((UCIData))"
   ]
  },
  {
   "cell_type": "code",
   "execution_count": 67,
   "metadata": {
    "scrolled": true
   },
   "outputs": [
    {
     "data": {
      "text/html": [
       "<ol class=list-inline>\n",
       "\t<li>10299</li>\n",
       "\t<li>563</li>\n",
       "</ol>\n"
      ],
      "text/latex": [
       "\\begin{enumerate*}\n",
       "\\item 10299\n",
       "\\item 563\n",
       "\\end{enumerate*}\n"
      ],
      "text/markdown": [
       "1. 10299\n",
       "2. 563\n",
       "\n",
       "\n"
      ],
      "text/plain": [
       "[1] 10299   563"
      ]
     },
     "metadata": {},
     "output_type": "display_data"
    }
   ],
   "source": [
    "dim(UCIData)"
   ]
  },
  {
   "cell_type": "markdown",
   "metadata": {},
   "source": [
    "###  Extracts only the measurements on the mean and standard deviation for each measurement."
   ]
  },
  {
   "cell_type": "code",
   "execution_count": 68,
   "metadata": {
    "scrolled": false
   },
   "outputs": [
    {
     "data": {
      "text/html": [
       "<table>\n",
       "<thead><tr><th scope=col>tBodyAcc-mean()-X</th><th scope=col>tBodyAcc-mean()-Y</th><th scope=col>tBodyAcc-mean()-Z</th><th scope=col>tBodyAcc-std()-X</th><th scope=col>tBodyAcc-std()-Y</th><th scope=col>tBodyAcc-std()-Z</th><th scope=col>tGravityAcc-mean()-X</th><th scope=col>tGravityAcc-mean()-Y</th><th scope=col>tGravityAcc-mean()-Z</th><th scope=col>tGravityAcc-std()-X</th><th scope=col>...</th><th scope=col>fBodyAccMag-meanFreq()</th><th scope=col>fBodyBodyAccJerkMag-mean()</th><th scope=col>fBodyBodyAccJerkMag-std()</th><th scope=col>fBodyBodyAccJerkMag-meanFreq()</th><th scope=col>fBodyBodyGyroMag-mean()</th><th scope=col>fBodyBodyGyroMag-std()</th><th scope=col>fBodyBodyGyroMag-meanFreq()</th><th scope=col>fBodyBodyGyroJerkMag-mean()</th><th scope=col>fBodyBodyGyroJerkMag-std()</th><th scope=col>fBodyBodyGyroJerkMag-meanFreq()</th></tr></thead>\n",
       "<tbody>\n",
       "\t<tr><td>0.2885845  </td><td>-0.02029417</td><td>-0.1329051 </td><td>-0.9952786 </td><td>-0.9831106 </td><td>-0.9135264 </td><td>0.9633961  </td><td>-0.1408397 </td><td>0.1153749  </td><td>-0.9852497 </td><td>...        </td><td>-0.08843612</td><td>-0.9937257 </td><td>-0.9937550 </td><td>0.3469885  </td><td>-0.9801349 </td><td>-0.9613094 </td><td>-0.1289889 </td><td>-0.9919904 </td><td>-0.9906975 </td><td>-0.07432303</td></tr>\n",
       "\t<tr><td>0.2784188  </td><td>-0.01641057</td><td>-0.1235202 </td><td>-0.9982453 </td><td>-0.9753002 </td><td>-0.9603220 </td><td>0.9665611  </td><td>-0.1415513 </td><td>0.1093788  </td><td>-0.9974113 </td><td>...        </td><td>-0.04414989</td><td>-0.9903355 </td><td>-0.9919603 </td><td>0.5320605  </td><td>-0.9882956 </td><td>-0.9833219 </td><td>-0.2719585 </td><td>-0.9958539 </td><td>-0.9963995 </td><td> 0.15807454</td></tr>\n",
       "</tbody>\n",
       "</table>\n"
      ],
      "text/latex": [
       "\\begin{tabular}{r|lllllllllllllllllllllllllllllllllllllllllllllllllllllllllllllllllllllllllllllll}\n",
       " tBodyAcc-mean()-X & tBodyAcc-mean()-Y & tBodyAcc-mean()-Z & tBodyAcc-std()-X & tBodyAcc-std()-Y & tBodyAcc-std()-Z & tGravityAcc-mean()-X & tGravityAcc-mean()-Y & tGravityAcc-mean()-Z & tGravityAcc-std()-X & ... & fBodyAccMag-meanFreq() & fBodyBodyAccJerkMag-mean() & fBodyBodyAccJerkMag-std() & fBodyBodyAccJerkMag-meanFreq() & fBodyBodyGyroMag-mean() & fBodyBodyGyroMag-std() & fBodyBodyGyroMag-meanFreq() & fBodyBodyGyroJerkMag-mean() & fBodyBodyGyroJerkMag-std() & fBodyBodyGyroJerkMag-meanFreq()\\\\\n",
       "\\hline\n",
       "\t 0.2885845   & -0.02029417 & -0.1329051  & -0.9952786  & -0.9831106  & -0.9135264  & 0.9633961   & -0.1408397  & 0.1153749   & -0.9852497  & ...         & -0.08843612 & -0.9937257  & -0.9937550  & 0.3469885   & -0.9801349  & -0.9613094  & -0.1289889  & -0.9919904  & -0.9906975  & -0.07432303\\\\\n",
       "\t 0.2784188   & -0.01641057 & -0.1235202  & -0.9982453  & -0.9753002  & -0.9603220  & 0.9665611   & -0.1415513  & 0.1093788   & -0.9974113  & ...         & -0.04414989 & -0.9903355  & -0.9919603  & 0.5320605   & -0.9882956  & -0.9833219  & -0.2719585  & -0.9958539  & -0.9963995  &  0.15807454\\\\\n",
       "\\end{tabular}\n"
      ],
      "text/markdown": [
       "\n",
       "tBodyAcc-mean()-X | tBodyAcc-mean()-Y | tBodyAcc-mean()-Z | tBodyAcc-std()-X | tBodyAcc-std()-Y | tBodyAcc-std()-Z | tGravityAcc-mean()-X | tGravityAcc-mean()-Y | tGravityAcc-mean()-Z | tGravityAcc-std()-X | ... | fBodyAccMag-meanFreq() | fBodyBodyAccJerkMag-mean() | fBodyBodyAccJerkMag-std() | fBodyBodyAccJerkMag-meanFreq() | fBodyBodyGyroMag-mean() | fBodyBodyGyroMag-std() | fBodyBodyGyroMag-meanFreq() | fBodyBodyGyroJerkMag-mean() | fBodyBodyGyroJerkMag-std() | fBodyBodyGyroJerkMag-meanFreq() | \n",
       "|---|---|\n",
       "| 0.2885845   | -0.02029417 | -0.1329051  | -0.9952786  | -0.9831106  | -0.9135264  | 0.9633961   | -0.1408397  | 0.1153749   | -0.9852497  | ...         | -0.08843612 | -0.9937257  | -0.9937550  | 0.3469885   | -0.9801349  | -0.9613094  | -0.1289889  | -0.9919904  | -0.9906975  | -0.07432303 | \n",
       "| 0.2784188   | -0.01641057 | -0.1235202  | -0.9982453  | -0.9753002  | -0.9603220  | 0.9665611   | -0.1415513  | 0.1093788   | -0.9974113  | ...         | -0.04414989 | -0.9903355  | -0.9919603  | 0.5320605   | -0.9882956  | -0.9833219  | -0.2719585  | -0.9958539  | -0.9963995  |  0.15807454 | \n",
       "\n",
       "\n"
      ],
      "text/plain": [
       "  tBodyAcc-mean()-X tBodyAcc-mean()-Y tBodyAcc-mean()-Z tBodyAcc-std()-X\n",
       "1 0.2885845         -0.02029417       -0.1329051        -0.9952786      \n",
       "2 0.2784188         -0.01641057       -0.1235202        -0.9982453      \n",
       "  tBodyAcc-std()-Y tBodyAcc-std()-Z tGravityAcc-mean()-X tGravityAcc-mean()-Y\n",
       "1 -0.9831106       -0.9135264       0.9633961            -0.1408397          \n",
       "2 -0.9753002       -0.9603220       0.9665611            -0.1415513          \n",
       "  tGravityAcc-mean()-Z tGravityAcc-std()-X ... fBodyAccMag-meanFreq()\n",
       "1 0.1153749            -0.9852497          ... -0.08843612           \n",
       "2 0.1093788            -0.9974113          ... -0.04414989           \n",
       "  fBodyBodyAccJerkMag-mean() fBodyBodyAccJerkMag-std()\n",
       "1 -0.9937257                 -0.9937550               \n",
       "2 -0.9903355                 -0.9919603               \n",
       "  fBodyBodyAccJerkMag-meanFreq() fBodyBodyGyroMag-mean() fBodyBodyGyroMag-std()\n",
       "1 0.3469885                      -0.9801349              -0.9613094            \n",
       "2 0.5320605                      -0.9882956              -0.9833219            \n",
       "  fBodyBodyGyroMag-meanFreq() fBodyBodyGyroJerkMag-mean()\n",
       "1 -0.1289889                  -0.9919904                 \n",
       "2 -0.2719585                  -0.9958539                 \n",
       "  fBodyBodyGyroJerkMag-std() fBodyBodyGyroJerkMag-meanFreq()\n",
       "1 -0.9906975                 -0.07432303                    \n",
       "2 -0.9963995                  0.15807454                    "
      ]
     },
     "metadata": {},
     "output_type": "display_data"
    }
   ],
   "source": [
    "#grepl -find positions that meet with pattern\n",
    "Mean_std_columns <- UCIData[,grepl(\"std()|mean()\",colnames(UCIData))]\n",
    "head(Mean_std_columns,2)"
   ]
  },
  {
   "cell_type": "markdown",
   "metadata": {},
   "source": [
    "###  Uses descriptive activity names to name the activities in the data set. "
   ]
  },
  {
   "cell_type": "code",
   "execution_count": 69,
   "metadata": {
    "scrolled": true
   },
   "outputs": [
    {
     "data": {
      "text/html": [
       "<table>\n",
       "<thead><tr><th scope=col>V1</th><th scope=col>V2</th></tr></thead>\n",
       "<tbody>\n",
       "\t<tr><td>1                 </td><td>WALKING           </td></tr>\n",
       "\t<tr><td>2                 </td><td>WALKING_UPSTAIRS  </td></tr>\n",
       "\t<tr><td>3                 </td><td>WALKING_DOWNSTAIRS</td></tr>\n",
       "\t<tr><td>4                 </td><td>SITTING           </td></tr>\n",
       "\t<tr><td>5                 </td><td>STANDING          </td></tr>\n",
       "\t<tr><td>6                 </td><td>LAYING            </td></tr>\n",
       "</tbody>\n",
       "</table>\n"
      ],
      "text/latex": [
       "\\begin{tabular}{r|ll}\n",
       " V1 & V2\\\\\n",
       "\\hline\n",
       "\t 1                  & WALKING           \\\\\n",
       "\t 2                    & WALKING\\_UPSTAIRS  \\\\\n",
       "\t 3                    & WALKING\\_DOWNSTAIRS\\\\\n",
       "\t 4                  & SITTING           \\\\\n",
       "\t 5                  & STANDING          \\\\\n",
       "\t 6                  & LAYING            \\\\\n",
       "\\end{tabular}\n"
      ],
      "text/markdown": [
       "\n",
       "V1 | V2 | \n",
       "|---|---|---|---|---|---|\n",
       "| 1                  | WALKING            | \n",
       "| 2                  | WALKING_UPSTAIRS   | \n",
       "| 3                  | WALKING_DOWNSTAIRS | \n",
       "| 4                  | SITTING            | \n",
       "| 5                  | STANDING           | \n",
       "| 6                  | LAYING             | \n",
       "\n",
       "\n"
      ],
      "text/plain": [
       "  V1 V2                \n",
       "1 1  WALKING           \n",
       "2 2  WALKING_UPSTAIRS  \n",
       "3 3  WALKING_DOWNSTAIRS\n",
       "4 4  SITTING           \n",
       "5 5  STANDING          \n",
       "6 6  LAYING            "
      ]
     },
     "metadata": {},
     "output_type": "display_data"
    }
   ],
   "source": [
    "# as.factor(UCIData[, \"activity_labels\"]).\n",
    "activityLabels <- read.table(\"./activity_labels.txt\", stringsAsFactors=FALSE)\n",
    "activityLabels"
   ]
  },
  {
   "cell_type": "code",
   "execution_count": 70,
   "metadata": {},
   "outputs": [],
   "source": [
    "# an example: numeric_grade number to letter_grade letters \n",
    "#[https://stackoverflow.com/questions/28751879/how-to-map-a-column-through-a-dictionary-in-r]\n",
    "\n",
    "# snape_gradebook_df<-data_frame(students=c(\"Harry\", \"Hermione\", \"Ron\", \"Neville\", \"Ginny\", \"Luna\", \"Draco\", \"Cho\"),\n",
    "#            numeric_grade=c(4,2,2,3,4,1,4,4))\n",
    "# grade_map<-data_frame(numbers=c(1,2,3,4), letters=c(\"A\", \"B\", \"C\", \"D\"),\n",
    "#                     stringsAsFactors = FALSE)\n",
    "# snape_gradebook_df['letter_grade']<-grade_map$letters[match(snape_gradebook_df$numeric_grade, grade_map$numbers)]\n",
    "# snape_gradebook_df"
   ]
  },
  {
   "cell_type": "code",
   "execution_count": 71,
   "metadata": {},
   "outputs": [
    {
     "data": {
      "text/html": [
       "<table>\n",
       "<thead><tr><th scope=col>subject</th><th scope=col>tBodyAcc-mean()-X</th><th scope=col>tBodyAcc-mean()-Y</th><th scope=col>tBodyAcc-mean()-Z</th><th scope=col>tBodyAcc-std()-X</th><th scope=col>tBodyAcc-std()-Y</th><th scope=col>tBodyAcc-std()-Z</th><th scope=col>tBodyAcc-mad()-X</th><th scope=col>tBodyAcc-mad()-Y</th><th scope=col>tBodyAcc-mad()-Z</th><th scope=col>...</th><th scope=col>fBodyBodyGyroJerkMag-skewness()</th><th scope=col>fBodyBodyGyroJerkMag-kurtosis()</th><th scope=col>angle(tBodyAccMean,gravity)</th><th scope=col>angle(tBodyAccJerkMean),gravityMean)</th><th scope=col>angle(tBodyGyroMean,gravityMean)</th><th scope=col>angle(tBodyGyroJerkMean,gravityMean)</th><th scope=col>angle(X,gravityMean)</th><th scope=col>angle(Y,gravityMean)</th><th scope=col>angle(Z,gravityMean)</th><th scope=col>activity_labels</th></tr></thead>\n",
       "<tbody>\n",
       "\t<tr><td>1          </td><td>0.2885845  </td><td>-0.02029417</td><td>-0.1329051 </td><td>-0.9952786 </td><td>-0.9831106 </td><td>-0.9135264 </td><td>-0.9951121 </td><td>-0.9831846 </td><td>-0.923527  </td><td>...        </td><td>-0.2986764 </td><td>-0.7103041 </td><td>-0.1127543 </td><td>0.03040037 </td><td>-0.4647614 </td><td>-0.01844588</td><td>-0.8412468 </td><td>0.1799406  </td><td>-0.05862692</td><td>STANDING   </td></tr>\n",
       "</tbody>\n",
       "</table>\n"
      ],
      "text/latex": [
       "\\begin{tabular}{r|lllllllllllllllllllllllllllllllllllllllllllllllllllllllllllllllllllllllllllllllllllllllllllllllllllllllllllllllllllllllllllllllllllllllllllllllllllllllllllllllllllllllllllllllllllllllllllllllllllllllllllllllllllllllllllllllllllllllllllllllllllllllllllllllllllllllllllllllllllllllllllllllllllllllllllllllllllllllllllllllllllllllllllllllllllllllllllllllllllllllllllllllllllllllllllllllllllllllllllllllllllllllllllllllllllllllllllllllllllllllllllllllllllllllllllllllllllllllllllllllllllllllllllllllllllllllllllllllllllllllllllllllllllllllllllllllllllllllllllllllllll}\n",
       " subject & tBodyAcc-mean()-X & tBodyAcc-mean()-Y & tBodyAcc-mean()-Z & tBodyAcc-std()-X & tBodyAcc-std()-Y & tBodyAcc-std()-Z & tBodyAcc-mad()-X & tBodyAcc-mad()-Y & tBodyAcc-mad()-Z & ... & fBodyBodyGyroJerkMag-skewness() & fBodyBodyGyroJerkMag-kurtosis() & angle(tBodyAccMean,gravity) & angle(tBodyAccJerkMean),gravityMean) & angle(tBodyGyroMean,gravityMean) & angle(tBodyGyroJerkMean,gravityMean) & angle(X,gravityMean) & angle(Y,gravityMean) & angle(Z,gravityMean) & activity\\_labels\\\\\n",
       "\\hline\n",
       "\t 1           & 0.2885845   & -0.02029417 & -0.1329051  & -0.9952786  & -0.9831106  & -0.9135264  & -0.9951121  & -0.9831846  & -0.923527   & ...         & -0.2986764  & -0.7103041  & -0.1127543  & 0.03040037  & -0.4647614  & -0.01844588 & -0.8412468  & 0.1799406   & -0.05862692 & STANDING   \\\\\n",
       "\\end{tabular}\n"
      ],
      "text/markdown": [
       "\n",
       "subject | tBodyAcc-mean()-X | tBodyAcc-mean()-Y | tBodyAcc-mean()-Z | tBodyAcc-std()-X | tBodyAcc-std()-Y | tBodyAcc-std()-Z | tBodyAcc-mad()-X | tBodyAcc-mad()-Y | tBodyAcc-mad()-Z | ... | fBodyBodyGyroJerkMag-skewness() | fBodyBodyGyroJerkMag-kurtosis() | angle(tBodyAccMean,gravity) | angle(tBodyAccJerkMean),gravityMean) | angle(tBodyGyroMean,gravityMean) | angle(tBodyGyroJerkMean,gravityMean) | angle(X,gravityMean) | angle(Y,gravityMean) | angle(Z,gravityMean) | activity_labels | \n",
       "|---|\n",
       "| 1           | 0.2885845   | -0.02029417 | -0.1329051  | -0.9952786  | -0.9831106  | -0.9135264  | -0.9951121  | -0.9831846  | -0.923527   | ...         | -0.2986764  | -0.7103041  | -0.1127543  | 0.03040037  | -0.4647614  | -0.01844588 | -0.8412468  | 0.1799406   | -0.05862692 | STANDING    | \n",
       "\n",
       "\n"
      ],
      "text/plain": [
       "  subject tBodyAcc-mean()-X tBodyAcc-mean()-Y tBodyAcc-mean()-Z\n",
       "1 1       0.2885845         -0.02029417       -0.1329051       \n",
       "  tBodyAcc-std()-X tBodyAcc-std()-Y tBodyAcc-std()-Z tBodyAcc-mad()-X\n",
       "1 -0.9952786       -0.9831106       -0.9135264       -0.9951121      \n",
       "  tBodyAcc-mad()-Y tBodyAcc-mad()-Z ... fBodyBodyGyroJerkMag-skewness()\n",
       "1 -0.9831846       -0.923527        ... -0.2986764                     \n",
       "  fBodyBodyGyroJerkMag-kurtosis() angle(tBodyAccMean,gravity)\n",
       "1 -0.7103041                      -0.1127543                 \n",
       "  angle(tBodyAccJerkMean),gravityMean) angle(tBodyGyroMean,gravityMean)\n",
       "1 0.03040037                           -0.4647614                      \n",
       "  angle(tBodyGyroJerkMean,gravityMean) angle(X,gravityMean)\n",
       "1 -0.01844588                          -0.8412468          \n",
       "  angle(Y,gravityMean) angle(Z,gravityMean) activity_labels\n",
       "1 0.1799406            -0.05862692          STANDING       "
      ]
     },
     "metadata": {},
     "output_type": "display_data"
    }
   ],
   "source": [
    "# str(UCIData[\"activity_labels\"]) #int\n",
    "# str(activityLables[\"V1\"]) #int\n",
    "UCIData$activity_labels<- activityLabels$V2[match(UCIData$activity_labels,activityLabels$V1)]\n",
    "head(UCIData,1)"
   ]
  },
  {
   "cell_type": "markdown",
   "metadata": {},
   "source": [
    "### Appropriately labels the data set with descriptive variable names."
   ]
  },
  {
   "cell_type": "code",
   "execution_count": 72,
   "metadata": {},
   "outputs": [
    {
     "data": {
      "text/html": [
       "<table>\n",
       "<thead><tr><th scope=col>subject</th><th scope=col>TheBodyLinearAccelerationToObtainJerkSignals-mean()-X</th><th scope=col>TheBodyLinearAccelerationToObtainJerkSignals-mean()-Y</th><th scope=col>TheBodyLinearAccelerationToObtainJerkSignals-mean()-Z</th><th scope=col>TheBodyLinearAccelerationToObtainJerkSignals-std()-X</th><th scope=col>TheBodyLinearAccelerationToObtainJerkSignals-std()-Y</th><th scope=col>TheBodyLinearAccelerationToObtainJerkSignals-std()-Z</th><th scope=col>TheBodyLinearAccelerationToObtainJerkSignals-mad()-X</th><th scope=col>TheBodyLinearAccelerationToObtainJerkSignals-mad()-Y</th><th scope=col>TheBodyLinearAccelerationToObtainJerkSignals-mad()-Z</th><th scope=col>...</th><th scope=col>fBodyBodyGyroJerkMag-skewness()</th><th scope=col>fBodyBodyGyroJerkMag-kurtosis()</th><th scope=col>angle(TheBodyLinearAccelerationToObtainJerkSignalsMean,gravity)</th><th scope=col>angle(TheBodyLinearAccelerationToObtainJerkSignalsJerkMean),gravityMean)</th><th scope=col>angle(TheAngularVelocityToObtainJerksignalsMean,gravityMean)</th><th scope=col>angle(TheAngularVelocityToObtainJerksignalsJerkMean,gravityMean)</th><th scope=col>angle(X,gravityMean)</th><th scope=col>angle(Y,gravityMean)</th><th scope=col>angle(Z,gravityMean)</th><th scope=col>activity_labels</th></tr></thead>\n",
       "<tbody>\n",
       "\t<tr><td>1           </td><td>0.2885845   </td><td>-0.02029417 </td><td>-0.1329051  </td><td>-0.9952786  </td><td>-0.9831106  </td><td>-0.9135264  </td><td>-0.9951121  </td><td>-0.9831846  </td><td>-0.9235270  </td><td>...         </td><td>-0.2986764  </td><td>-0.7103041  </td><td>-0.11275434 </td><td> 0.030400372</td><td>-0.4647614  </td><td>-0.01844588 </td><td>-0.8412468  </td><td>0.1799406   </td><td>-0.05862692 </td><td>STANDING    </td></tr>\n",
       "\t<tr><td>1           </td><td>0.2784188   </td><td>-0.01641057 </td><td>-0.1235202  </td><td>-0.9982453  </td><td>-0.9753002  </td><td>-0.9603220  </td><td>-0.9988072  </td><td>-0.9749144  </td><td>-0.9576862  </td><td>...         </td><td>-0.5950509  </td><td>-0.8614993  </td><td> 0.05347695 </td><td>-0.007434566</td><td>-0.7326262  </td><td> 0.70351059 </td><td>-0.8447876  </td><td>0.1802889   </td><td>-0.05431672 </td><td>STANDING    </td></tr>\n",
       "\t<tr><td>1           </td><td>0.2796531   </td><td>-0.01946716 </td><td>-0.1134617  </td><td>-0.9953796  </td><td>-0.9671870  </td><td>-0.9789440  </td><td>-0.9965199  </td><td>-0.9636684  </td><td>-0.9774686  </td><td>...         </td><td>-0.3907482  </td><td>-0.7601037  </td><td>-0.11855926 </td><td> 0.177899480</td><td> 0.1006992  </td><td> 0.80852908 </td><td>-0.8489335  </td><td>0.1806373   </td><td>-0.04911782 </td><td>STANDING    </td></tr>\n",
       "\t<tr><td>1           </td><td>0.2791739   </td><td>-0.02620065 </td><td>-0.1232826  </td><td>-0.9960915  </td><td>-0.9834027  </td><td>-0.9906751  </td><td>-0.9970995  </td><td>-0.9827498  </td><td>-0.9893025  </td><td>...         </td><td>-0.1172902  </td><td>-0.4828445  </td><td>-0.03678797 </td><td>-0.012892494</td><td> 0.6400110  </td><td>-0.48536645 </td><td>-0.8486494  </td><td>0.1819348   </td><td>-0.04766318 </td><td>STANDING    </td></tr>\n",
       "\t<tr><td>1           </td><td>0.2766288   </td><td>-0.01656965 </td><td>-0.1153619  </td><td>-0.9981386  </td><td>-0.9808173  </td><td>-0.9904816  </td><td>-0.9983211  </td><td>-0.9796719  </td><td>-0.9904411  </td><td>...         </td><td>-0.3514709  </td><td>-0.6992052  </td><td> 0.12332005 </td><td> 0.122541960</td><td> 0.6935783  </td><td>-0.61597061 </td><td>-0.8478653  </td><td>0.1851512   </td><td>-0.04389225 </td><td>STANDING    </td></tr>\n",
       "\t<tr><td>1           </td><td>0.2771988   </td><td>-0.01009785 </td><td>-0.1051373  </td><td>-0.9973350  </td><td>-0.9904868  </td><td>-0.9954200  </td><td>-0.9976274  </td><td>-0.9902177  </td><td>-0.9955489  </td><td>...         </td><td>-0.5454101  </td><td>-0.8446193  </td><td> 0.08263215 </td><td>-0.143439010</td><td> 0.2750408  </td><td>-0.36822404 </td><td>-0.8496316  </td><td>0.1848225   </td><td>-0.04212638 </td><td>STANDING    </td></tr>\n",
       "</tbody>\n",
       "</table>\n"
      ],
      "text/latex": [
       "\\begin{tabular}{r|lllllllllllllllllllllllllllllllllllllllllllllllllllllllllllllllllllllllllllllllllllllllllllllllllllllllllllllllllllllllllllllllllllllllllllllllllllllllllllllllllllllllllllllllllllllllllllllllllllllllllllllllllllllllllllllllllllllllllllllllllllllllllllllllllllllllllllllllllllllllllllllllllllllllllllllllllllllllllllllllllllllllllllllllllllllllllllllllllllllllllllllllllllllllllllllllllllllllllllllllllllllllllllllllllllllllllllllllllllllllllllllllllllllllllllllllllllllllllllllllllllllllllllllllllllllllllllllllllllllllllllllllllllllllllllllllllllllllllllllllllll}\n",
       " subject & TheBodyLinearAccelerationToObtainJerkSignals-mean()-X & TheBodyLinearAccelerationToObtainJerkSignals-mean()-Y & TheBodyLinearAccelerationToObtainJerkSignals-mean()-Z & TheBodyLinearAccelerationToObtainJerkSignals-std()-X & TheBodyLinearAccelerationToObtainJerkSignals-std()-Y & TheBodyLinearAccelerationToObtainJerkSignals-std()-Z & TheBodyLinearAccelerationToObtainJerkSignals-mad()-X & TheBodyLinearAccelerationToObtainJerkSignals-mad()-Y & TheBodyLinearAccelerationToObtainJerkSignals-mad()-Z & ... & fBodyBodyGyroJerkMag-skewness() & fBodyBodyGyroJerkMag-kurtosis() & angle(TheBodyLinearAccelerationToObtainJerkSignalsMean,gravity) & angle(TheBodyLinearAccelerationToObtainJerkSignalsJerkMean),gravityMean) & angle(TheAngularVelocityToObtainJerksignalsMean,gravityMean) & angle(TheAngularVelocityToObtainJerksignalsJerkMean,gravityMean) & angle(X,gravityMean) & angle(Y,gravityMean) & angle(Z,gravityMean) & activity\\_labels\\\\\n",
       "\\hline\n",
       "\t 1            & 0.2885845    & -0.02029417  & -0.1329051   & -0.9952786   & -0.9831106   & -0.9135264   & -0.9951121   & -0.9831846   & -0.9235270   & ...          & -0.2986764   & -0.7103041   & -0.11275434  &  0.030400372 & -0.4647614   & -0.01844588  & -0.8412468   & 0.1799406    & -0.05862692  & STANDING    \\\\\n",
       "\t 1            & 0.2784188    & -0.01641057  & -0.1235202   & -0.9982453   & -0.9753002   & -0.9603220   & -0.9988072   & -0.9749144   & -0.9576862   & ...          & -0.5950509   & -0.8614993   &  0.05347695  & -0.007434566 & -0.7326262   &  0.70351059  & -0.8447876   & 0.1802889    & -0.05431672  & STANDING    \\\\\n",
       "\t 1            & 0.2796531    & -0.01946716  & -0.1134617   & -0.9953796   & -0.9671870   & -0.9789440   & -0.9965199   & -0.9636684   & -0.9774686   & ...          & -0.3907482   & -0.7601037   & -0.11855926  &  0.177899480 &  0.1006992   &  0.80852908  & -0.8489335   & 0.1806373    & -0.04911782  & STANDING    \\\\\n",
       "\t 1            & 0.2791739    & -0.02620065  & -0.1232826   & -0.9960915   & -0.9834027   & -0.9906751   & -0.9970995   & -0.9827498   & -0.9893025   & ...          & -0.1172902   & -0.4828445   & -0.03678797  & -0.012892494 &  0.6400110   & -0.48536645  & -0.8486494   & 0.1819348    & -0.04766318  & STANDING    \\\\\n",
       "\t 1            & 0.2766288    & -0.01656965  & -0.1153619   & -0.9981386   & -0.9808173   & -0.9904816   & -0.9983211   & -0.9796719   & -0.9904411   & ...          & -0.3514709   & -0.6992052   &  0.12332005  &  0.122541960 &  0.6935783   & -0.61597061  & -0.8478653   & 0.1851512    & -0.04389225  & STANDING    \\\\\n",
       "\t 1            & 0.2771988    & -0.01009785  & -0.1051373   & -0.9973350   & -0.9904868   & -0.9954200   & -0.9976274   & -0.9902177   & -0.9955489   & ...          & -0.5454101   & -0.8446193   &  0.08263215  & -0.143439010 &  0.2750408   & -0.36822404  & -0.8496316   & 0.1848225    & -0.04212638  & STANDING    \\\\\n",
       "\\end{tabular}\n"
      ],
      "text/markdown": [
       "\n",
       "subject | TheBodyLinearAccelerationToObtainJerkSignals-mean()-X | TheBodyLinearAccelerationToObtainJerkSignals-mean()-Y | TheBodyLinearAccelerationToObtainJerkSignals-mean()-Z | TheBodyLinearAccelerationToObtainJerkSignals-std()-X | TheBodyLinearAccelerationToObtainJerkSignals-std()-Y | TheBodyLinearAccelerationToObtainJerkSignals-std()-Z | TheBodyLinearAccelerationToObtainJerkSignals-mad()-X | TheBodyLinearAccelerationToObtainJerkSignals-mad()-Y | TheBodyLinearAccelerationToObtainJerkSignals-mad()-Z | ... | fBodyBodyGyroJerkMag-skewness() | fBodyBodyGyroJerkMag-kurtosis() | angle(TheBodyLinearAccelerationToObtainJerkSignalsMean,gravity) | angle(TheBodyLinearAccelerationToObtainJerkSignalsJerkMean),gravityMean) | angle(TheAngularVelocityToObtainJerksignalsMean,gravityMean) | angle(TheAngularVelocityToObtainJerksignalsJerkMean,gravityMean) | angle(X,gravityMean) | angle(Y,gravityMean) | angle(Z,gravityMean) | activity_labels | \n",
       "|---|---|---|---|---|---|\n",
       "| 1            | 0.2885845    | -0.02029417  | -0.1329051   | -0.9952786   | -0.9831106   | -0.9135264   | -0.9951121   | -0.9831846   | -0.9235270   | ...          | -0.2986764   | -0.7103041   | -0.11275434  |  0.030400372 | -0.4647614   | -0.01844588  | -0.8412468   | 0.1799406    | -0.05862692  | STANDING     | \n",
       "| 1            | 0.2784188    | -0.01641057  | -0.1235202   | -0.9982453   | -0.9753002   | -0.9603220   | -0.9988072   | -0.9749144   | -0.9576862   | ...          | -0.5950509   | -0.8614993   |  0.05347695  | -0.007434566 | -0.7326262   |  0.70351059  | -0.8447876   | 0.1802889    | -0.05431672  | STANDING     | \n",
       "| 1            | 0.2796531    | -0.01946716  | -0.1134617   | -0.9953796   | -0.9671870   | -0.9789440   | -0.9965199   | -0.9636684   | -0.9774686   | ...          | -0.3907482   | -0.7601037   | -0.11855926  |  0.177899480 |  0.1006992   |  0.80852908  | -0.8489335   | 0.1806373    | -0.04911782  | STANDING     | \n",
       "| 1            | 0.2791739    | -0.02620065  | -0.1232826   | -0.9960915   | -0.9834027   | -0.9906751   | -0.9970995   | -0.9827498   | -0.9893025   | ...          | -0.1172902   | -0.4828445   | -0.03678797  | -0.012892494 |  0.6400110   | -0.48536645  | -0.8486494   | 0.1819348    | -0.04766318  | STANDING     | \n",
       "| 1            | 0.2766288    | -0.01656965  | -0.1153619   | -0.9981386   | -0.9808173   | -0.9904816   | -0.9983211   | -0.9796719   | -0.9904411   | ...          | -0.3514709   | -0.6992052   |  0.12332005  |  0.122541960 |  0.6935783   | -0.61597061  | -0.8478653   | 0.1851512    | -0.04389225  | STANDING     | \n",
       "| 1            | 0.2771988    | -0.01009785  | -0.1051373   | -0.9973350   | -0.9904868   | -0.9954200   | -0.9976274   | -0.9902177   | -0.9955489   | ...          | -0.5454101   | -0.8446193   |  0.08263215  | -0.143439010 |  0.2750408   | -0.36822404  | -0.8496316   | 0.1848225    | -0.04212638  | STANDING     | \n",
       "\n",
       "\n"
      ],
      "text/plain": [
       "  subject TheBodyLinearAccelerationToObtainJerkSignals-mean()-X\n",
       "1 1       0.2885845                                            \n",
       "2 1       0.2784188                                            \n",
       "3 1       0.2796531                                            \n",
       "4 1       0.2791739                                            \n",
       "5 1       0.2766288                                            \n",
       "6 1       0.2771988                                            \n",
       "  TheBodyLinearAccelerationToObtainJerkSignals-mean()-Y\n",
       "1 -0.02029417                                          \n",
       "2 -0.01641057                                          \n",
       "3 -0.01946716                                          \n",
       "4 -0.02620065                                          \n",
       "5 -0.01656965                                          \n",
       "6 -0.01009785                                          \n",
       "  TheBodyLinearAccelerationToObtainJerkSignals-mean()-Z\n",
       "1 -0.1329051                                           \n",
       "2 -0.1235202                                           \n",
       "3 -0.1134617                                           \n",
       "4 -0.1232826                                           \n",
       "5 -0.1153619                                           \n",
       "6 -0.1051373                                           \n",
       "  TheBodyLinearAccelerationToObtainJerkSignals-std()-X\n",
       "1 -0.9952786                                          \n",
       "2 -0.9982453                                          \n",
       "3 -0.9953796                                          \n",
       "4 -0.9960915                                          \n",
       "5 -0.9981386                                          \n",
       "6 -0.9973350                                          \n",
       "  TheBodyLinearAccelerationToObtainJerkSignals-std()-Y\n",
       "1 -0.9831106                                          \n",
       "2 -0.9753002                                          \n",
       "3 -0.9671870                                          \n",
       "4 -0.9834027                                          \n",
       "5 -0.9808173                                          \n",
       "6 -0.9904868                                          \n",
       "  TheBodyLinearAccelerationToObtainJerkSignals-std()-Z\n",
       "1 -0.9135264                                          \n",
       "2 -0.9603220                                          \n",
       "3 -0.9789440                                          \n",
       "4 -0.9906751                                          \n",
       "5 -0.9904816                                          \n",
       "6 -0.9954200                                          \n",
       "  TheBodyLinearAccelerationToObtainJerkSignals-mad()-X\n",
       "1 -0.9951121                                          \n",
       "2 -0.9988072                                          \n",
       "3 -0.9965199                                          \n",
       "4 -0.9970995                                          \n",
       "5 -0.9983211                                          \n",
       "6 -0.9976274                                          \n",
       "  TheBodyLinearAccelerationToObtainJerkSignals-mad()-Y\n",
       "1 -0.9831846                                          \n",
       "2 -0.9749144                                          \n",
       "3 -0.9636684                                          \n",
       "4 -0.9827498                                          \n",
       "5 -0.9796719                                          \n",
       "6 -0.9902177                                          \n",
       "  TheBodyLinearAccelerationToObtainJerkSignals-mad()-Z ...\n",
       "1 -0.9235270                                           ...\n",
       "2 -0.9576862                                           ...\n",
       "3 -0.9774686                                           ...\n",
       "4 -0.9893025                                           ...\n",
       "5 -0.9904411                                           ...\n",
       "6 -0.9955489                                           ...\n",
       "  fBodyBodyGyroJerkMag-skewness() fBodyBodyGyroJerkMag-kurtosis()\n",
       "1 -0.2986764                      -0.7103041                     \n",
       "2 -0.5950509                      -0.8614993                     \n",
       "3 -0.3907482                      -0.7601037                     \n",
       "4 -0.1172902                      -0.4828445                     \n",
       "5 -0.3514709                      -0.6992052                     \n",
       "6 -0.5454101                      -0.8446193                     \n",
       "  angle(TheBodyLinearAccelerationToObtainJerkSignalsMean,gravity)\n",
       "1 -0.11275434                                                    \n",
       "2  0.05347695                                                    \n",
       "3 -0.11855926                                                    \n",
       "4 -0.03678797                                                    \n",
       "5  0.12332005                                                    \n",
       "6  0.08263215                                                    \n",
       "  angle(TheBodyLinearAccelerationToObtainJerkSignalsJerkMean),gravityMean)\n",
       "1  0.030400372                                                            \n",
       "2 -0.007434566                                                            \n",
       "3  0.177899480                                                            \n",
       "4 -0.012892494                                                            \n",
       "5  0.122541960                                                            \n",
       "6 -0.143439010                                                            \n",
       "  angle(TheAngularVelocityToObtainJerksignalsMean,gravityMean)\n",
       "1 -0.4647614                                                  \n",
       "2 -0.7326262                                                  \n",
       "3  0.1006992                                                  \n",
       "4  0.6400110                                                  \n",
       "5  0.6935783                                                  \n",
       "6  0.2750408                                                  \n",
       "  angle(TheAngularVelocityToObtainJerksignalsJerkMean,gravityMean)\n",
       "1 -0.01844588                                                     \n",
       "2  0.70351059                                                     \n",
       "3  0.80852908                                                     \n",
       "4 -0.48536645                                                     \n",
       "5 -0.61597061                                                     \n",
       "6 -0.36822404                                                     \n",
       "  angle(X,gravityMean) angle(Y,gravityMean) angle(Z,gravityMean)\n",
       "1 -0.8412468           0.1799406            -0.05862692         \n",
       "2 -0.8447876           0.1802889            -0.05431672         \n",
       "3 -0.8489335           0.1806373            -0.04911782         \n",
       "4 -0.8486494           0.1819348            -0.04766318         \n",
       "5 -0.8478653           0.1851512            -0.04389225         \n",
       "6 -0.8496316           0.1848225            -0.04212638         \n",
       "  activity_labels\n",
       "1 STANDING       \n",
       "2 STANDING       \n",
       "3 STANDING       \n",
       "4 STANDING       \n",
       "5 STANDING       \n",
       "6 STANDING       "
      ]
     },
     "metadata": {},
     "output_type": "display_data"
    }
   ],
   "source": [
    "#the body linear acceleration to obtain Jerk signals  (tBodyAccJerk-XYZ)\n",
    "tBodyAccJerk <- function(str) gsub(pattern = \"tBodyAcc\" ,\"TheBodyLinearAccelerationToObtainJerkSignals\", str)\n",
    "colNames <- sapply(colnames(UCIData),tBodyAccJerk)\n",
    "\n",
    "#the angular velocity to obtain Jerk signals (tBodyGyro)\n",
    "tBodyGyroJerk <- function(str) gsub(pattern = \"tBodyGyro\" ,\"TheAngularVelocityToObtainJerksignals\", str)\n",
    "colNames <- sapply(colNames,tBodyGyroJerk)\n",
    "\n",
    "#Fast Fourier Transform (FFT) was applied to some of these signals producing fBodyAcc-XYZ\n",
    "fBodyAcc  <- function(str) gsub(pattern = \"fBodyAcc\" ,\"FastFourierTransformToObtainJerksignals\", str)\n",
    "colNames <- sapply(colNames,fBodyAcc)\n",
    "colnames(UCIData) <- colNames\n",
    "head(UCIData)"
   ]
  },
  {
   "cell_type": "markdown",
   "metadata": {},
   "source": [
    "### Creates a second, independent tidy data set with the average of each variable for each activity and each subject."
   ]
  },
  {
   "cell_type": "code",
   "execution_count": 73,
   "metadata": {},
   "outputs": [
    {
     "data": {
      "text/html": [
       "<table>\n",
       "<thead><tr><th scope=col>subject_train</th><th scope=col>activity_labels</th><th scope=col>TheBodyLinearAccelerationToObtainJerkSignals-mean()-X</th><th scope=col>TheBodyLinearAccelerationToObtainJerkSignals-mean()-Y</th><th scope=col>TheBodyLinearAccelerationToObtainJerkSignals-mean()-Z</th><th scope=col>TheBodyLinearAccelerationToObtainJerkSignals-std()-X</th><th scope=col>TheBodyLinearAccelerationToObtainJerkSignals-std()-Y</th><th scope=col>TheBodyLinearAccelerationToObtainJerkSignals-std()-Z</th><th scope=col>TheBodyLinearAccelerationToObtainJerkSignals-mad()-X</th><th scope=col>TheBodyLinearAccelerationToObtainJerkSignals-mad()-Y</th><th scope=col>...</th><th scope=col>fBodyBodyGyroJerkMag-meanFreq()</th><th scope=col>fBodyBodyGyroJerkMag-skewness()</th><th scope=col>fBodyBodyGyroJerkMag-kurtosis()</th><th scope=col>angle(TheBodyLinearAccelerationToObtainJerkSignalsMean,gravity)</th><th scope=col>angle(TheBodyLinearAccelerationToObtainJerkSignalsJerkMean),gravityMean)</th><th scope=col>angle(TheAngularVelocityToObtainJerksignalsMean,gravityMean)</th><th scope=col>angle(TheAngularVelocityToObtainJerksignalsJerkMean,gravityMean)</th><th scope=col>angle(X,gravityMean)</th><th scope=col>angle(Y,gravityMean)</th><th scope=col>angle(Z,gravityMean)</th></tr></thead>\n",
       "<tbody>\n",
       "\t<tr><td>1                 </td><td>LAYING            </td><td>0.2215982         </td><td>-0.040513953      </td><td>-0.1132036        </td><td>-0.92805647       </td><td>-0.836827406      </td><td>-0.82606140       </td><td>-0.93211117       </td><td>-0.840910589      </td><td>...               </td><td>0.1764859         </td><td>-0.42322547       </td><td>-0.7073143        </td><td> 0.0213659656     </td><td> 0.003060407      </td><td>-0.001666985      </td><td> 0.08443716       </td><td> 0.4267062        </td><td>-0.52034382       </td><td>-0.35241311       </td></tr>\n",
       "\t<tr><td>1                 </td><td>SITTING           </td><td>0.2612376         </td><td>-0.001308288      </td><td>-0.1045442        </td><td>-0.97722901       </td><td>-0.922618642      </td><td>-0.93958629       </td><td>-0.97951458       </td><td>-0.919658954      </td><td>...               </td><td>0.1847759         </td><td>-0.38390584       </td><td>-0.6872528        </td><td> 0.0274415479     </td><td> 0.029709788      </td><td> 0.067698134      </td><td>-0.06488162       </td><td>-0.5912475        </td><td>-0.06046603       </td><td>-0.21801723       </td></tr>\n",
       "\t<tr><td>1                 </td><td>STANDING          </td><td>0.2789176         </td><td>-0.016137590      </td><td>-0.1106018        </td><td>-0.99575990       </td><td>-0.973190056      </td><td>-0.97977588       </td><td>-0.99614135       </td><td>-0.971758757      </td><td>...               </td><td>0.3344987         </td><td>-0.45573728       </td><td>-0.7132671        </td><td>-0.0002223407     </td><td> 0.021963783      </td><td>-0.033793838      </td><td>-0.02792293       </td><td>-0.7434079        </td><td> 0.27017503       </td><td> 0.01225285       </td></tr>\n",
       "\t<tr><td>1                 </td><td>WALKING           </td><td>0.2773308         </td><td>-0.017383819      </td><td>-0.1111481        </td><td>-0.28374026       </td><td> 0.114461337      </td><td>-0.26002790       </td><td>-0.34069902       </td><td> 0.061811080      </td><td>...               </td><td>0.1906634         </td><td>-0.13492995       </td><td>-0.4656628        </td><td> 0.0604537474     </td><td>-0.007930378      </td><td> 0.013059491      </td><td>-0.01874319       </td><td>-0.7292472        </td><td> 0.27695302       </td><td> 0.06885891       </td></tr>\n",
       "\t<tr><td>1                 </td><td>WALKING_DOWNSTAIRS</td><td>0.2891883         </td><td>-0.009918505      </td><td>-0.1075662        </td><td> 0.03003534       </td><td>-0.031935943      </td><td>-0.23043421       </td><td>-0.04411722       </td><td>-0.107395631      </td><td>...               </td><td>0.1900007         </td><td>-0.42773005       </td><td>-0.7705796        </td><td>-0.0026951252     </td><td> 0.089931687      </td><td> 0.063338285      </td><td>-0.03997685       </td><td>-0.7444838        </td><td> 0.26724578       </td><td> 0.06500471       </td></tr>\n",
       "\t<tr><td>1                 </td><td>WALKING_UPSTAIRS  </td><td>0.2554617         </td><td>-0.023953149      </td><td>-0.0973020        </td><td>-0.35470803       </td><td>-0.002320265      </td><td>-0.01947924       </td><td>-0.40283278       </td><td> 0.007676899      </td><td>...               </td><td>0.1142773         </td><td>-0.43855957       </td><td>-0.7590598        </td><td> 0.0960860762     </td><td>-0.061083841      </td><td>-0.194699963      </td><td> 0.06568357       </td><td>-0.6471957        </td><td> 0.33476328       </td><td> 0.07416637       </td></tr>\n",
       "\t<tr><td>2                 </td><td>LAYING            </td><td>0.2813734         </td><td>-0.018158740      </td><td>-0.1072456        </td><td>-0.97405946       </td><td>-0.980277399      </td><td>-0.98423330       </td><td>-0.97660697       </td><td>-0.980963747      </td><td>...               </td><td>0.2648015         </td><td>-0.44428603       </td><td>-0.7513444        </td><td> 0.0057918096     </td><td>-0.006355576      </td><td> 0.065286011      </td><td>-0.02937101       </td><td> 0.6174234        </td><td>-0.51973255       </td><td>-0.47892823       </td></tr>\n",
       "\t<tr><td>2                 </td><td>SITTING           </td><td>0.2770874         </td><td>-0.015687994      </td><td>-0.1092183        </td><td>-0.98682228       </td><td>-0.950704499      </td><td>-0.95982817       </td><td>-0.98859449       </td><td>-0.951537807      </td><td>...               </td><td>0.1947221         </td><td>-0.33212556       </td><td>-0.6607881        </td><td> 0.0395284311     </td><td>-0.003392867      </td><td> 0.020973170      </td><td>-0.07620420       </td><td>-0.7744361        </td><td> 0.15585728       </td><td>-0.11822440       </td></tr>\n",
       "\t<tr><td>2                 </td><td>STANDING          </td><td>0.2779115         </td><td>-0.018420827      </td><td>-0.1059085        </td><td>-0.98727189       </td><td>-0.957304989      </td><td>-0.94974185       </td><td>-0.98934137       </td><td>-0.957543717      </td><td>...               </td><td>0.1606628         </td><td>-0.37155834       </td><td>-0.6683671        </td><td>-0.0136819153     </td><td> 0.041182224      </td><td>-0.015103516      </td><td> 0.11232465       </td><td>-0.6271801        </td><td> 0.33793791       </td><td>-0.06789598       </td></tr>\n",
       "\t<tr><td>2                 </td><td>WALKING           </td><td>0.2764266         </td><td>-0.018594920      </td><td>-0.1055004        </td><td>-0.42364284       </td><td>-0.078091253      </td><td>-0.42525752       </td><td>-0.46098307       </td><td>-0.120172928      </td><td>...               </td><td>0.1263446         </td><td>-0.02878997       </td><td>-0.3693644        </td><td>-0.0301017379     </td><td> 0.053400580      </td><td> 0.021619677      </td><td>-0.08584708       </td><td>-0.6619600        </td><td> 0.32144301       </td><td>-0.03688928       </td></tr>\n",
       "</tbody>\n",
       "</table>\n"
      ],
      "text/latex": [
       "\\begin{tabular}{r|lllllllllllllllllllllllllllllllllllllllllllllllllllllllllllllllllllllllllllllllllllllllllllllllllllllllllllllllllllllllllllllllllllllllllllllllllllllllllllllllllllllllllllllllllllllllllllllllllllllllllllllllllllllllllllllllllllllllllllllllllllllllllllllllllllllllllllllllllllllllllllllllllllllllllllllllllllllllllllllllllllllllllllllllllllllllllllllllllllllllllllllllllllllllllllllllllllllllllllllllllllllllllllllllllllllllllllllllllllllllllllllllllllllllllllllllllllllllllllllllllllllllllllllllllllllllllllllllllllllllllllllllllllllllllllllllllllllllllllllllllll}\n",
       " subject\\_train & activity\\_labels & TheBodyLinearAccelerationToObtainJerkSignals-mean()-X & TheBodyLinearAccelerationToObtainJerkSignals-mean()-Y & TheBodyLinearAccelerationToObtainJerkSignals-mean()-Z & TheBodyLinearAccelerationToObtainJerkSignals-std()-X & TheBodyLinearAccelerationToObtainJerkSignals-std()-Y & TheBodyLinearAccelerationToObtainJerkSignals-std()-Z & TheBodyLinearAccelerationToObtainJerkSignals-mad()-X & TheBodyLinearAccelerationToObtainJerkSignals-mad()-Y & ... & fBodyBodyGyroJerkMag-meanFreq() & fBodyBodyGyroJerkMag-skewness() & fBodyBodyGyroJerkMag-kurtosis() & angle(TheBodyLinearAccelerationToObtainJerkSignalsMean,gravity) & angle(TheBodyLinearAccelerationToObtainJerkSignalsJerkMean),gravityMean) & angle(TheAngularVelocityToObtainJerksignalsMean,gravityMean) & angle(TheAngularVelocityToObtainJerksignalsJerkMean,gravityMean) & angle(X,gravityMean) & angle(Y,gravityMean) & angle(Z,gravityMean)\\\\\n",
       "\\hline\n",
       "\t 1                  & LAYING             & 0.2215982          & -0.040513953       & -0.1132036         & -0.92805647        & -0.836827406       & -0.82606140        & -0.93211117        & -0.840910589       & ...                & 0.1764859          & -0.42322547        & -0.7073143         &  0.0213659656      &  0.003060407       & -0.001666985       &  0.08443716        &  0.4267062         & -0.52034382        & -0.35241311       \\\\\n",
       "\t 1                  & SITTING            & 0.2612376          & -0.001308288       & -0.1045442         & -0.97722901        & -0.922618642       & -0.93958629        & -0.97951458        & -0.919658954       & ...                & 0.1847759          & -0.38390584        & -0.6872528         &  0.0274415479      &  0.029709788       &  0.067698134       & -0.06488162        & -0.5912475         & -0.06046603        & -0.21801723       \\\\\n",
       "\t 1                  & STANDING           & 0.2789176          & -0.016137590       & -0.1106018         & -0.99575990        & -0.973190056       & -0.97977588        & -0.99614135        & -0.971758757       & ...                & 0.3344987          & -0.45573728        & -0.7132671         & -0.0002223407      &  0.021963783       & -0.033793838       & -0.02792293        & -0.7434079         &  0.27017503        &  0.01225285       \\\\\n",
       "\t 1                  & WALKING            & 0.2773308          & -0.017383819       & -0.1111481         & -0.28374026        &  0.114461337       & -0.26002790        & -0.34069902        &  0.061811080       & ...                & 0.1906634          & -0.13492995        & -0.4656628         &  0.0604537474      & -0.007930378       &  0.013059491       & -0.01874319        & -0.7292472         &  0.27695302        &  0.06885891       \\\\\n",
       "\t 1                    & WALKING\\_DOWNSTAIRS & 0.2891883            & -0.009918505         & -0.1075662           &  0.03003534          & -0.031935943         & -0.23043421          & -0.04411722          & -0.107395631         & ...                  & 0.1900007            & -0.42773005          & -0.7705796           & -0.0026951252        &  0.089931687         &  0.063338285         & -0.03997685          & -0.7444838           &  0.26724578          &  0.06500471         \\\\\n",
       "\t 1                    & WALKING\\_UPSTAIRS   & 0.2554617            & -0.023953149         & -0.0973020           & -0.35470803          & -0.002320265         & -0.01947924          & -0.40283278          &  0.007676899         & ...                  & 0.1142773            & -0.43855957          & -0.7590598           &  0.0960860762        & -0.061083841         & -0.194699963         &  0.06568357          & -0.6471957           &  0.33476328          &  0.07416637         \\\\\n",
       "\t 2                  & LAYING             & 0.2813734          & -0.018158740       & -0.1072456         & -0.97405946        & -0.980277399       & -0.98423330        & -0.97660697        & -0.980963747       & ...                & 0.2648015          & -0.44428603        & -0.7513444         &  0.0057918096      & -0.006355576       &  0.065286011       & -0.02937101        &  0.6174234         & -0.51973255        & -0.47892823       \\\\\n",
       "\t 2                  & SITTING            & 0.2770874          & -0.015687994       & -0.1092183         & -0.98682228        & -0.950704499       & -0.95982817        & -0.98859449        & -0.951537807       & ...                & 0.1947221          & -0.33212556        & -0.6607881         &  0.0395284311      & -0.003392867       &  0.020973170       & -0.07620420        & -0.7744361         &  0.15585728        & -0.11822440       \\\\\n",
       "\t 2                  & STANDING           & 0.2779115          & -0.018420827       & -0.1059085         & -0.98727189        & -0.957304989       & -0.94974185        & -0.98934137        & -0.957543717       & ...                & 0.1606628          & -0.37155834        & -0.6683671         & -0.0136819153      &  0.041182224       & -0.015103516       &  0.11232465        & -0.6271801         &  0.33793791        & -0.06789598       \\\\\n",
       "\t 2                  & WALKING            & 0.2764266          & -0.018594920       & -0.1055004         & -0.42364284        & -0.078091253       & -0.42525752        & -0.46098307        & -0.120172928       & ...                & 0.1263446          & -0.02878997        & -0.3693644         & -0.0301017379      &  0.053400580       &  0.021619677       & -0.08584708        & -0.6619600         &  0.32144301        & -0.03688928       \\\\\n",
       "\\end{tabular}\n"
      ],
      "text/markdown": [
       "\n",
       "subject_train | activity_labels | TheBodyLinearAccelerationToObtainJerkSignals-mean()-X | TheBodyLinearAccelerationToObtainJerkSignals-mean()-Y | TheBodyLinearAccelerationToObtainJerkSignals-mean()-Z | TheBodyLinearAccelerationToObtainJerkSignals-std()-X | TheBodyLinearAccelerationToObtainJerkSignals-std()-Y | TheBodyLinearAccelerationToObtainJerkSignals-std()-Z | TheBodyLinearAccelerationToObtainJerkSignals-mad()-X | TheBodyLinearAccelerationToObtainJerkSignals-mad()-Y | ... | fBodyBodyGyroJerkMag-meanFreq() | fBodyBodyGyroJerkMag-skewness() | fBodyBodyGyroJerkMag-kurtosis() | angle(TheBodyLinearAccelerationToObtainJerkSignalsMean,gravity) | angle(TheBodyLinearAccelerationToObtainJerkSignalsJerkMean),gravityMean) | angle(TheAngularVelocityToObtainJerksignalsMean,gravityMean) | angle(TheAngularVelocityToObtainJerksignalsJerkMean,gravityMean) | angle(X,gravityMean) | angle(Y,gravityMean) | angle(Z,gravityMean) | \n",
       "|---|---|---|---|---|---|---|---|---|---|\n",
       "| 1                  | LAYING             | 0.2215982          | -0.040513953       | -0.1132036         | -0.92805647        | -0.836827406       | -0.82606140        | -0.93211117        | -0.840910589       | ...                | 0.1764859          | -0.42322547        | -0.7073143         |  0.0213659656      |  0.003060407       | -0.001666985       |  0.08443716        |  0.4267062         | -0.52034382        | -0.35241311        | \n",
       "| 1                  | SITTING            | 0.2612376          | -0.001308288       | -0.1045442         | -0.97722901        | -0.922618642       | -0.93958629        | -0.97951458        | -0.919658954       | ...                | 0.1847759          | -0.38390584        | -0.6872528         |  0.0274415479      |  0.029709788       |  0.067698134       | -0.06488162        | -0.5912475         | -0.06046603        | -0.21801723        | \n",
       "| 1                  | STANDING           | 0.2789176          | -0.016137590       | -0.1106018         | -0.99575990        | -0.973190056       | -0.97977588        | -0.99614135        | -0.971758757       | ...                | 0.3344987          | -0.45573728        | -0.7132671         | -0.0002223407      |  0.021963783       | -0.033793838       | -0.02792293        | -0.7434079         |  0.27017503        |  0.01225285        | \n",
       "| 1                  | WALKING            | 0.2773308          | -0.017383819       | -0.1111481         | -0.28374026        |  0.114461337       | -0.26002790        | -0.34069902        |  0.061811080       | ...                | 0.1906634          | -0.13492995        | -0.4656628         |  0.0604537474      | -0.007930378       |  0.013059491       | -0.01874319        | -0.7292472         |  0.27695302        |  0.06885891        | \n",
       "| 1                  | WALKING_DOWNSTAIRS | 0.2891883          | -0.009918505       | -0.1075662         |  0.03003534        | -0.031935943       | -0.23043421        | -0.04411722        | -0.107395631       | ...                | 0.1900007          | -0.42773005        | -0.7705796         | -0.0026951252      |  0.089931687       |  0.063338285       | -0.03997685        | -0.7444838         |  0.26724578        |  0.06500471        | \n",
       "| 1                  | WALKING_UPSTAIRS   | 0.2554617          | -0.023953149       | -0.0973020         | -0.35470803        | -0.002320265       | -0.01947924        | -0.40283278        |  0.007676899       | ...                | 0.1142773          | -0.43855957        | -0.7590598         |  0.0960860762      | -0.061083841       | -0.194699963       |  0.06568357        | -0.6471957         |  0.33476328        |  0.07416637        | \n",
       "| 2                  | LAYING             | 0.2813734          | -0.018158740       | -0.1072456         | -0.97405946        | -0.980277399       | -0.98423330        | -0.97660697        | -0.980963747       | ...                | 0.2648015          | -0.44428603        | -0.7513444         |  0.0057918096      | -0.006355576       |  0.065286011       | -0.02937101        |  0.6174234         | -0.51973255        | -0.47892823        | \n",
       "| 2                  | SITTING            | 0.2770874          | -0.015687994       | -0.1092183         | -0.98682228        | -0.950704499       | -0.95982817        | -0.98859449        | -0.951537807       | ...                | 0.1947221          | -0.33212556        | -0.6607881         |  0.0395284311      | -0.003392867       |  0.020973170       | -0.07620420        | -0.7744361         |  0.15585728        | -0.11822440        | \n",
       "| 2                  | STANDING           | 0.2779115          | -0.018420827       | -0.1059085         | -0.98727189        | -0.957304989       | -0.94974185        | -0.98934137        | -0.957543717       | ...                | 0.1606628          | -0.37155834        | -0.6683671         | -0.0136819153      |  0.041182224       | -0.015103516       |  0.11232465        | -0.6271801         |  0.33793791        | -0.06789598        | \n",
       "| 2                  | WALKING            | 0.2764266          | -0.018594920       | -0.1055004         | -0.42364284        | -0.078091253       | -0.42525752        | -0.46098307        | -0.120172928       | ...                | 0.1263446          | -0.02878997        | -0.3693644         | -0.0301017379      |  0.053400580       |  0.021619677       | -0.08584708        | -0.6619600         |  0.32144301        | -0.03688928        | \n",
       "\n",
       "\n"
      ],
      "text/plain": [
       "   subject_train activity_labels   \n",
       "1  1             LAYING            \n",
       "2  1             SITTING           \n",
       "3  1             STANDING          \n",
       "4  1             WALKING           \n",
       "5  1             WALKING_DOWNSTAIRS\n",
       "6  1             WALKING_UPSTAIRS  \n",
       "7  2             LAYING            \n",
       "8  2             SITTING           \n",
       "9  2             STANDING          \n",
       "10 2             WALKING           \n",
       "   TheBodyLinearAccelerationToObtainJerkSignals-mean()-X\n",
       "1  0.2215982                                            \n",
       "2  0.2612376                                            \n",
       "3  0.2789176                                            \n",
       "4  0.2773308                                            \n",
       "5  0.2891883                                            \n",
       "6  0.2554617                                            \n",
       "7  0.2813734                                            \n",
       "8  0.2770874                                            \n",
       "9  0.2779115                                            \n",
       "10 0.2764266                                            \n",
       "   TheBodyLinearAccelerationToObtainJerkSignals-mean()-Y\n",
       "1  -0.040513953                                         \n",
       "2  -0.001308288                                         \n",
       "3  -0.016137590                                         \n",
       "4  -0.017383819                                         \n",
       "5  -0.009918505                                         \n",
       "6  -0.023953149                                         \n",
       "7  -0.018158740                                         \n",
       "8  -0.015687994                                         \n",
       "9  -0.018420827                                         \n",
       "10 -0.018594920                                         \n",
       "   TheBodyLinearAccelerationToObtainJerkSignals-mean()-Z\n",
       "1  -0.1132036                                           \n",
       "2  -0.1045442                                           \n",
       "3  -0.1106018                                           \n",
       "4  -0.1111481                                           \n",
       "5  -0.1075662                                           \n",
       "6  -0.0973020                                           \n",
       "7  -0.1072456                                           \n",
       "8  -0.1092183                                           \n",
       "9  -0.1059085                                           \n",
       "10 -0.1055004                                           \n",
       "   TheBodyLinearAccelerationToObtainJerkSignals-std()-X\n",
       "1  -0.92805647                                         \n",
       "2  -0.97722901                                         \n",
       "3  -0.99575990                                         \n",
       "4  -0.28374026                                         \n",
       "5   0.03003534                                         \n",
       "6  -0.35470803                                         \n",
       "7  -0.97405946                                         \n",
       "8  -0.98682228                                         \n",
       "9  -0.98727189                                         \n",
       "10 -0.42364284                                         \n",
       "   TheBodyLinearAccelerationToObtainJerkSignals-std()-Y\n",
       "1  -0.836827406                                        \n",
       "2  -0.922618642                                        \n",
       "3  -0.973190056                                        \n",
       "4   0.114461337                                        \n",
       "5  -0.031935943                                        \n",
       "6  -0.002320265                                        \n",
       "7  -0.980277399                                        \n",
       "8  -0.950704499                                        \n",
       "9  -0.957304989                                        \n",
       "10 -0.078091253                                        \n",
       "   TheBodyLinearAccelerationToObtainJerkSignals-std()-Z\n",
       "1  -0.82606140                                         \n",
       "2  -0.93958629                                         \n",
       "3  -0.97977588                                         \n",
       "4  -0.26002790                                         \n",
       "5  -0.23043421                                         \n",
       "6  -0.01947924                                         \n",
       "7  -0.98423330                                         \n",
       "8  -0.95982817                                         \n",
       "9  -0.94974185                                         \n",
       "10 -0.42525752                                         \n",
       "   TheBodyLinearAccelerationToObtainJerkSignals-mad()-X\n",
       "1  -0.93211117                                         \n",
       "2  -0.97951458                                         \n",
       "3  -0.99614135                                         \n",
       "4  -0.34069902                                         \n",
       "5  -0.04411722                                         \n",
       "6  -0.40283278                                         \n",
       "7  -0.97660697                                         \n",
       "8  -0.98859449                                         \n",
       "9  -0.98934137                                         \n",
       "10 -0.46098307                                         \n",
       "   TheBodyLinearAccelerationToObtainJerkSignals-mad()-Y ...\n",
       "1  -0.840910589                                         ...\n",
       "2  -0.919658954                                         ...\n",
       "3  -0.971758757                                         ...\n",
       "4   0.061811080                                         ...\n",
       "5  -0.107395631                                         ...\n",
       "6   0.007676899                                         ...\n",
       "7  -0.980963747                                         ...\n",
       "8  -0.951537807                                         ...\n",
       "9  -0.957543717                                         ...\n",
       "10 -0.120172928                                         ...\n",
       "   fBodyBodyGyroJerkMag-meanFreq() fBodyBodyGyroJerkMag-skewness()\n",
       "1  0.1764859                       -0.42322547                    \n",
       "2  0.1847759                       -0.38390584                    \n",
       "3  0.3344987                       -0.45573728                    \n",
       "4  0.1906634                       -0.13492995                    \n",
       "5  0.1900007                       -0.42773005                    \n",
       "6  0.1142773                       -0.43855957                    \n",
       "7  0.2648015                       -0.44428603                    \n",
       "8  0.1947221                       -0.33212556                    \n",
       "9  0.1606628                       -0.37155834                    \n",
       "10 0.1263446                       -0.02878997                    \n",
       "   fBodyBodyGyroJerkMag-kurtosis()\n",
       "1  -0.7073143                     \n",
       "2  -0.6872528                     \n",
       "3  -0.7132671                     \n",
       "4  -0.4656628                     \n",
       "5  -0.7705796                     \n",
       "6  -0.7590598                     \n",
       "7  -0.7513444                     \n",
       "8  -0.6607881                     \n",
       "9  -0.6683671                     \n",
       "10 -0.3693644                     \n",
       "   angle(TheBodyLinearAccelerationToObtainJerkSignalsMean,gravity)\n",
       "1   0.0213659656                                                  \n",
       "2   0.0274415479                                                  \n",
       "3  -0.0002223407                                                  \n",
       "4   0.0604537474                                                  \n",
       "5  -0.0026951252                                                  \n",
       "6   0.0960860762                                                  \n",
       "7   0.0057918096                                                  \n",
       "8   0.0395284311                                                  \n",
       "9  -0.0136819153                                                  \n",
       "10 -0.0301017379                                                  \n",
       "   angle(TheBodyLinearAccelerationToObtainJerkSignalsJerkMean),gravityMean)\n",
       "1   0.003060407                                                            \n",
       "2   0.029709788                                                            \n",
       "3   0.021963783                                                            \n",
       "4  -0.007930378                                                            \n",
       "5   0.089931687                                                            \n",
       "6  -0.061083841                                                            \n",
       "7  -0.006355576                                                            \n",
       "8  -0.003392867                                                            \n",
       "9   0.041182224                                                            \n",
       "10  0.053400580                                                            \n",
       "   angle(TheAngularVelocityToObtainJerksignalsMean,gravityMean)\n",
       "1  -0.001666985                                                \n",
       "2   0.067698134                                                \n",
       "3  -0.033793838                                                \n",
       "4   0.013059491                                                \n",
       "5   0.063338285                                                \n",
       "6  -0.194699963                                                \n",
       "7   0.065286011                                                \n",
       "8   0.020973170                                                \n",
       "9  -0.015103516                                                \n",
       "10  0.021619677                                                \n",
       "   angle(TheAngularVelocityToObtainJerksignalsJerkMean,gravityMean)\n",
       "1   0.08443716                                                     \n",
       "2  -0.06488162                                                     \n",
       "3  -0.02792293                                                     \n",
       "4  -0.01874319                                                     \n",
       "5  -0.03997685                                                     \n",
       "6   0.06568357                                                     \n",
       "7  -0.02937101                                                     \n",
       "8  -0.07620420                                                     \n",
       "9   0.11232465                                                     \n",
       "10 -0.08584708                                                     \n",
       "   angle(X,gravityMean) angle(Y,gravityMean) angle(Z,gravityMean)\n",
       "1   0.4267062           -0.52034382          -0.35241311         \n",
       "2  -0.5912475           -0.06046603          -0.21801723         \n",
       "3  -0.7434079            0.27017503           0.01225285         \n",
       "4  -0.7292472            0.27695302           0.06885891         \n",
       "5  -0.7444838            0.26724578           0.06500471         \n",
       "6  -0.6471957            0.33476328           0.07416637         \n",
       "7   0.6174234           -0.51973255          -0.47892823         \n",
       "8  -0.7744361            0.15585728          -0.11822440         \n",
       "9  -0.6271801            0.33793791          -0.06789598         \n",
       "10 -0.6619600            0.32144301          -0.03688928         "
      ]
     },
     "metadata": {},
     "output_type": "display_data"
    }
   ],
   "source": [
    "aggData <- aggregate(UCIData[,2:562], list(UCIData$subject,UCIData$activity_labels), mean)\n",
    "colnames(aggData)[1:2] = c(\"subject_train\",\"activity_labels\")\n",
    "tidyData  <-  aggData %>% arrange(subject_train)\n",
    "head(tidyData,10)"
   ]
  },
  {
   "cell_type": "code",
   "execution_count": 74,
   "metadata": {},
   "outputs": [
    {
     "data": {
      "text/html": [
       "<ol class=list-inline>\n",
       "\t<li>180</li>\n",
       "\t<li>563</li>\n",
       "</ol>\n"
      ],
      "text/latex": [
       "\\begin{enumerate*}\n",
       "\\item 180\n",
       "\\item 563\n",
       "\\end{enumerate*}\n"
      ],
      "text/markdown": [
       "1. 180\n",
       "2. 563\n",
       "\n",
       "\n"
      ],
      "text/plain": [
       "[1] 180 563"
      ]
     },
     "metadata": {},
     "output_type": "display_data"
    }
   ],
   "source": [
    "dim(tidyData)"
   ]
  },
  {
   "cell_type": "markdown",
   "metadata": {},
   "source": [
    "### reference\n",
    "* [thoughtfulbloke aka David Hood](https://thoughtfulbloke.wordpress.com/2015/09/09/getting-and-cleaning-the-assignment/)\n",
    "* [Getting and Cleaning Data Course project help guide](https://drive.google.com/file/d/0B1r70tGT37UxYzhNQWdXS19CN1U/view)\n",
    "* [Match function in R](https://www.r-bloggers.com/match-function-in-r/)\n",
    "* [Mean per group in a data.frame](https://stackoverflow.com/questions/21982987/mean-per-group-in-a-data-frame)\n",
    "* [Calculate mean per group (mean by group)](https://stackoverflow.com/questions/11562656/calculate-mean-per-group-mean-by-group)"
   ]
  }
 ],
 "metadata": {
  "kernelspec": {
   "display_name": "R",
   "language": "R",
   "name": "ir"
  },
  "language_info": {
   "codemirror_mode": "r",
   "file_extension": ".r",
   "mimetype": "text/x-r-source",
   "name": "R",
   "pygments_lexer": "r",
   "version": "3.4.2"
  },
  "toc": {
   "nav_menu": {},
   "number_sections": true,
   "sideBar": true,
   "skip_h1_title": false,
   "title_cell": "Table of Contents",
   "title_sidebar": "Contents",
   "toc_cell": false,
   "toc_position": {
    "height": "calc(100% - 180px)",
    "left": "10px",
    "top": "150px",
    "width": "165px"
   },
   "toc_section_display": true,
   "toc_window_display": false
  }
 },
 "nbformat": 4,
 "nbformat_minor": 2
}
