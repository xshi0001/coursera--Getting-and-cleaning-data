{
 "cells": [
  {
   "cell_type": "markdown",
   "metadata": {},
   "source": [
    "R - [reshape2](https://www.rdocumentation.org/packages/reshape2/versions/1.4.3)\n",
    "v1.4.3\n",
    "\n",
    "melt ---数据重新整合\n",
    "\n",
    "cast ---基于melt的数据聚合运算，比如求每个分组的均值"
   ]
  },
  {
   "cell_type": "code",
   "execution_count": 1,
   "metadata": {},
   "outputs": [
    {
     "name": "stderr",
     "output_type": "stream",
     "text": [
      "Warning message:\n",
      "\"package 'reshape2' was built under R version 3.4.3\""
     ]
    },
    {
     "data": {
      "text/html": [
       "<table>\n",
       "<thead><tr><th scope=col>id</th><th scope=col>variable</th><th scope=col>value</th></tr></thead>\n",
       "<tbody>\n",
       "\t<tr><td>1   </td><td>blue</td><td>1   </td></tr>\n",
       "\t<tr><td>1   </td><td>blue</td><td>0   </td></tr>\n",
       "\t<tr><td>2   </td><td>blue</td><td>1   </td></tr>\n",
       "\t<tr><td>2   </td><td>blue</td><td>0   </td></tr>\n",
       "\t<tr><td>1   </td><td>red </td><td>0   </td></tr>\n",
       "\t<tr><td>1   </td><td>red </td><td>1   </td></tr>\n",
       "\t<tr><td>2   </td><td>red </td><td>0   </td></tr>\n",
       "\t<tr><td>2   </td><td>red </td><td>1   </td></tr>\n",
       "</tbody>\n",
       "</table>\n"
      ],
      "text/latex": [
       "\\begin{tabular}{r|lll}\n",
       " id & variable & value\\\\\n",
       "\\hline\n",
       "\t 1    & blue & 1   \\\\\n",
       "\t 1    & blue & 0   \\\\\n",
       "\t 2    & blue & 1   \\\\\n",
       "\t 2    & blue & 0   \\\\\n",
       "\t 1    & red  & 0   \\\\\n",
       "\t 1    & red  & 1   \\\\\n",
       "\t 2    & red  & 0   \\\\\n",
       "\t 2    & red  & 1   \\\\\n",
       "\\end{tabular}\n"
      ],
      "text/markdown": [
       "\n",
       "id | variable | value | \n",
       "|---|---|---|---|---|---|---|---|\n",
       "| 1    | blue | 1    | \n",
       "| 1    | blue | 0    | \n",
       "| 2    | blue | 1    | \n",
       "| 2    | blue | 0    | \n",
       "| 1    | red  | 0    | \n",
       "| 1    | red  | 1    | \n",
       "| 2    | red  | 0    | \n",
       "| 2    | red  | 1    | \n",
       "\n",
       "\n"
      ],
      "text/plain": [
       "  id variable value\n",
       "1 1  blue     1    \n",
       "2 1  blue     0    \n",
       "3 2  blue     1    \n",
       "4 2  blue     0    \n",
       "5 1  red      0    \n",
       "6 1  red      1    \n",
       "7 2  red      0    \n",
       "8 2  red      1    "
      ]
     },
     "metadata": {},
     "output_type": "display_data"
    }
   ],
   "source": [
    "library(reshape2)\n",
    "\n",
    "# example data frame\n",
    "x = data.frame(\n",
    "  id   = c(1, 1, 2, 2),\n",
    "  blue = c(1, 0, 1, 0),\n",
    "  red  = c(0, 1, 0, 1)\n",
    ")\n",
    "\n",
    "# collapse the data frame\n",
    "melt(data = x, id.vars = \"id\", measure.vars = c(\"blue\", \"red\"))"
   ]
  },
  {
   "cell_type": "code",
   "execution_count": 2,
   "metadata": {
    "scrolled": true
   },
   "outputs": [
    {
     "data": {
      "text/html": [
       "<table>\n",
       "<thead><tr><th scope=col>ozone</th><th scope=col>solar.r</th><th scope=col>wind</th><th scope=col>temp</th><th scope=col>month</th><th scope=col>day</th></tr></thead>\n",
       "<tbody>\n",
       "\t<tr><td>41  </td><td>190 </td><td> 7.4</td><td>67  </td><td>5   </td><td>1   </td></tr>\n",
       "\t<tr><td>36  </td><td>118 </td><td> 8.0</td><td>72  </td><td>5   </td><td>2   </td></tr>\n",
       "\t<tr><td>12  </td><td>149 </td><td>12.6</td><td>74  </td><td>5   </td><td>3   </td></tr>\n",
       "\t<tr><td>18  </td><td>313 </td><td>11.5</td><td>62  </td><td>5   </td><td>4   </td></tr>\n",
       "\t<tr><td>NA  </td><td> NA </td><td>14.3</td><td>56  </td><td>5   </td><td>5   </td></tr>\n",
       "\t<tr><td>28  </td><td> NA </td><td>14.9</td><td>66  </td><td>5   </td><td>6   </td></tr>\n",
       "</tbody>\n",
       "</table>\n"
      ],
      "text/latex": [
       "\\begin{tabular}{r|llllll}\n",
       " ozone & solar.r & wind & temp & month & day\\\\\n",
       "\\hline\n",
       "\t 41   & 190  &  7.4 & 67   & 5    & 1   \\\\\n",
       "\t 36   & 118  &  8.0 & 72   & 5    & 2   \\\\\n",
       "\t 12   & 149  & 12.6 & 74   & 5    & 3   \\\\\n",
       "\t 18   & 313  & 11.5 & 62   & 5    & 4   \\\\\n",
       "\t NA   &  NA  & 14.3 & 56   & 5    & 5   \\\\\n",
       "\t 28   &  NA  & 14.9 & 66   & 5    & 6   \\\\\n",
       "\\end{tabular}\n"
      ],
      "text/markdown": [
       "\n",
       "ozone | solar.r | wind | temp | month | day | \n",
       "|---|---|---|---|---|---|\n",
       "| 41   | 190  |  7.4 | 67   | 5    | 1    | \n",
       "| 36   | 118  |  8.0 | 72   | 5    | 2    | \n",
       "| 12   | 149  | 12.6 | 74   | 5    | 3    | \n",
       "| 18   | 313  | 11.5 | 62   | 5    | 4    | \n",
       "| NA   |  NA  | 14.3 | 56   | 5    | 5    | \n",
       "| 28   |  NA  | 14.9 | 66   | 5    | 6    | \n",
       "\n",
       "\n"
      ],
      "text/plain": [
       "  ozone solar.r wind temp month day\n",
       "1 41    190      7.4 67   5     1  \n",
       "2 36    118      8.0 72   5     2  \n",
       "3 12    149     12.6 74   5     3  \n",
       "4 18    313     11.5 62   5     4  \n",
       "5 NA     NA     14.3 56   5     5  \n",
       "6 28     NA     14.9 66   5     6  "
      ]
     },
     "metadata": {},
     "output_type": "display_data"
    }
   ],
   "source": [
    "# NOT RUN {\n",
    "#Air quality example\n",
    "names(airquality) <- tolower(names(airquality))\n",
    "head(airquality)"
   ]
  },
  {
   "cell_type": "code",
   "execution_count": 3,
   "metadata": {},
   "outputs": [
    {
     "data": {
      "text/html": [
       "<table>\n",
       "<thead><tr><th></th><th scope=col>month</th><th scope=col>day</th><th scope=col>variable</th><th scope=col>value</th></tr></thead>\n",
       "<tbody>\n",
       "\t<tr><th scope=row>1</th><td>5    </td><td> 1   </td><td>ozone</td><td> 41  </td></tr>\n",
       "\t<tr><th scope=row>2</th><td>5    </td><td> 2   </td><td>ozone</td><td> 36  </td></tr>\n",
       "\t<tr><th scope=row>3</th><td>5    </td><td> 3   </td><td>ozone</td><td> 12  </td></tr>\n",
       "\t<tr><th scope=row>4</th><td>5    </td><td> 4   </td><td>ozone</td><td> 18  </td></tr>\n",
       "\t<tr><th scope=row>6</th><td>5    </td><td> 6   </td><td>ozone</td><td> 28  </td></tr>\n",
       "\t<tr><th scope=row>7</th><td>5    </td><td> 7   </td><td>ozone</td><td> 23  </td></tr>\n",
       "\t<tr><th scope=row>8</th><td>5    </td><td> 8   </td><td>ozone</td><td> 19  </td></tr>\n",
       "\t<tr><th scope=row>9</th><td>5    </td><td> 9   </td><td>ozone</td><td>  8  </td></tr>\n",
       "\t<tr><th scope=row>11</th><td>5    </td><td>11   </td><td>ozone</td><td>  7  </td></tr>\n",
       "\t<tr><th scope=row>12</th><td>5    </td><td>12   </td><td>ozone</td><td> 16  </td></tr>\n",
       "\t<tr><th scope=row>13</th><td>5    </td><td>13   </td><td>ozone</td><td> 11  </td></tr>\n",
       "\t<tr><th scope=row>14</th><td>5    </td><td>14   </td><td>ozone</td><td> 14  </td></tr>\n",
       "\t<tr><th scope=row>15</th><td>5    </td><td>15   </td><td>ozone</td><td> 18  </td></tr>\n",
       "\t<tr><th scope=row>16</th><td>5    </td><td>16   </td><td>ozone</td><td> 14  </td></tr>\n",
       "\t<tr><th scope=row>17</th><td>5    </td><td>17   </td><td>ozone</td><td> 34  </td></tr>\n",
       "\t<tr><th scope=row>18</th><td>5    </td><td>18   </td><td>ozone</td><td>  6  </td></tr>\n",
       "\t<tr><th scope=row>19</th><td>5    </td><td>19   </td><td>ozone</td><td> 30  </td></tr>\n",
       "\t<tr><th scope=row>20</th><td>5    </td><td>20   </td><td>ozone</td><td> 11  </td></tr>\n",
       "\t<tr><th scope=row>21</th><td>5    </td><td>21   </td><td>ozone</td><td>  1  </td></tr>\n",
       "\t<tr><th scope=row>22</th><td>5    </td><td>22   </td><td>ozone</td><td> 11  </td></tr>\n",
       "\t<tr><th scope=row>23</th><td>5    </td><td>23   </td><td>ozone</td><td>  4  </td></tr>\n",
       "\t<tr><th scope=row>24</th><td>5    </td><td>24   </td><td>ozone</td><td> 32  </td></tr>\n",
       "\t<tr><th scope=row>28</th><td>5    </td><td>28   </td><td>ozone</td><td> 23  </td></tr>\n",
       "\t<tr><th scope=row>29</th><td>5    </td><td>29   </td><td>ozone</td><td> 45  </td></tr>\n",
       "\t<tr><th scope=row>30</th><td>5    </td><td>30   </td><td>ozone</td><td>115  </td></tr>\n",
       "\t<tr><th scope=row>31</th><td>5    </td><td>31   </td><td>ozone</td><td> 37  </td></tr>\n",
       "\t<tr><th scope=row>38</th><td>6    </td><td> 7   </td><td>ozone</td><td> 29  </td></tr>\n",
       "\t<tr><th scope=row>40</th><td>6    </td><td> 9   </td><td>ozone</td><td> 71  </td></tr>\n",
       "\t<tr><th scope=row>41</th><td>6    </td><td>10   </td><td>ozone</td><td> 39  </td></tr>\n",
       "\t<tr><th scope=row>44</th><td>6    </td><td>13   </td><td>ozone</td><td> 23  </td></tr>\n",
       "</tbody>\n",
       "</table>\n"
      ],
      "text/latex": [
       "\\begin{tabular}{r|llll}\n",
       "  & month & day & variable & value\\\\\n",
       "\\hline\n",
       "\t1 & 5     &  1    & ozone &  41  \\\\\n",
       "\t2 & 5     &  2    & ozone &  36  \\\\\n",
       "\t3 & 5     &  3    & ozone &  12  \\\\\n",
       "\t4 & 5     &  4    & ozone &  18  \\\\\n",
       "\t6 & 5     &  6    & ozone &  28  \\\\\n",
       "\t7 & 5     &  7    & ozone &  23  \\\\\n",
       "\t8 & 5     &  8    & ozone &  19  \\\\\n",
       "\t9 & 5     &  9    & ozone &   8  \\\\\n",
       "\t11 & 5     & 11    & ozone &   7  \\\\\n",
       "\t12 & 5     & 12    & ozone &  16  \\\\\n",
       "\t13 & 5     & 13    & ozone &  11  \\\\\n",
       "\t14 & 5     & 14    & ozone &  14  \\\\\n",
       "\t15 & 5     & 15    & ozone &  18  \\\\\n",
       "\t16 & 5     & 16    & ozone &  14  \\\\\n",
       "\t17 & 5     & 17    & ozone &  34  \\\\\n",
       "\t18 & 5     & 18    & ozone &   6  \\\\\n",
       "\t19 & 5     & 19    & ozone &  30  \\\\\n",
       "\t20 & 5     & 20    & ozone &  11  \\\\\n",
       "\t21 & 5     & 21    & ozone &   1  \\\\\n",
       "\t22 & 5     & 22    & ozone &  11  \\\\\n",
       "\t23 & 5     & 23    & ozone &   4  \\\\\n",
       "\t24 & 5     & 24    & ozone &  32  \\\\\n",
       "\t28 & 5     & 28    & ozone &  23  \\\\\n",
       "\t29 & 5     & 29    & ozone &  45  \\\\\n",
       "\t30 & 5     & 30    & ozone & 115  \\\\\n",
       "\t31 & 5     & 31    & ozone &  37  \\\\\n",
       "\t38 & 6     &  7    & ozone &  29  \\\\\n",
       "\t40 & 6     &  9    & ozone &  71  \\\\\n",
       "\t41 & 6     & 10    & ozone &  39  \\\\\n",
       "\t44 & 6     & 13    & ozone &  23  \\\\\n",
       "\\end{tabular}\n"
      ],
      "text/markdown": [
       "\n",
       "| <!--/--> | month | day | variable | value | \n",
       "|---|---|---|---|---|---|---|---|---|---|---|---|---|---|---|---|---|---|---|---|---|---|---|---|---|---|---|---|---|---|\n",
       "| 1 | 5     |  1    | ozone |  41   | \n",
       "| 2 | 5     |  2    | ozone |  36   | \n",
       "| 3 | 5     |  3    | ozone |  12   | \n",
       "| 4 | 5     |  4    | ozone |  18   | \n",
       "| 6 | 5     |  6    | ozone |  28   | \n",
       "| 7 | 5     |  7    | ozone |  23   | \n",
       "| 8 | 5     |  8    | ozone |  19   | \n",
       "| 9 | 5     |  9    | ozone |   8   | \n",
       "| 11 | 5     | 11    | ozone |   7   | \n",
       "| 12 | 5     | 12    | ozone |  16   | \n",
       "| 13 | 5     | 13    | ozone |  11   | \n",
       "| 14 | 5     | 14    | ozone |  14   | \n",
       "| 15 | 5     | 15    | ozone |  18   | \n",
       "| 16 | 5     | 16    | ozone |  14   | \n",
       "| 17 | 5     | 17    | ozone |  34   | \n",
       "| 18 | 5     | 18    | ozone |   6   | \n",
       "| 19 | 5     | 19    | ozone |  30   | \n",
       "| 20 | 5     | 20    | ozone |  11   | \n",
       "| 21 | 5     | 21    | ozone |   1   | \n",
       "| 22 | 5     | 22    | ozone |  11   | \n",
       "| 23 | 5     | 23    | ozone |   4   | \n",
       "| 24 | 5     | 24    | ozone |  32   | \n",
       "| 28 | 5     | 28    | ozone |  23   | \n",
       "| 29 | 5     | 29    | ozone |  45   | \n",
       "| 30 | 5     | 30    | ozone | 115   | \n",
       "| 31 | 5     | 31    | ozone |  37   | \n",
       "| 38 | 6     |  7    | ozone |  29   | \n",
       "| 40 | 6     |  9    | ozone |  71   | \n",
       "| 41 | 6     | 10    | ozone |  39   | \n",
       "| 44 | 6     | 13    | ozone |  23   | \n",
       "\n",
       "\n"
      ],
      "text/plain": [
       "   month day variable value\n",
       "1  5      1  ozone     41  \n",
       "2  5      2  ozone     36  \n",
       "3  5      3  ozone     12  \n",
       "4  5      4  ozone     18  \n",
       "6  5      6  ozone     28  \n",
       "7  5      7  ozone     23  \n",
       "8  5      8  ozone     19  \n",
       "9  5      9  ozone      8  \n",
       "11 5     11  ozone      7  \n",
       "12 5     12  ozone     16  \n",
       "13 5     13  ozone     11  \n",
       "14 5     14  ozone     14  \n",
       "15 5     15  ozone     18  \n",
       "16 5     16  ozone     14  \n",
       "17 5     17  ozone     34  \n",
       "18 5     18  ozone      6  \n",
       "19 5     19  ozone     30  \n",
       "20 5     20  ozone     11  \n",
       "21 5     21  ozone      1  \n",
       "22 5     22  ozone     11  \n",
       "23 5     23  ozone      4  \n",
       "24 5     24  ozone     32  \n",
       "28 5     28  ozone     23  \n",
       "29 5     29  ozone     45  \n",
       "30 5     30  ozone    115  \n",
       "31 5     31  ozone     37  \n",
       "38 6      7  ozone     29  \n",
       "40 6      9  ozone     71  \n",
       "41 6     10  ozone     39  \n",
       "44 6     13  ozone     23  "
      ]
     },
     "metadata": {},
     "output_type": "display_data"
    }
   ],
   "source": [
    "aqm <- melt(airquality, id=c(\"month\", \"day\"), na.rm=TRUE)\n",
    "head(aqm,30)"
   ]
  },
  {
   "cell_type": "code",
   "execution_count": 4,
   "metadata": {},
   "outputs": [
    {
     "data": {
      "text/html": [
       "<table>\n",
       "<thead><tr><th></th><th scope=col>ozone</th><th scope=col>solar.r</th><th scope=col>wind</th><th scope=col>temp</th></tr></thead>\n",
       "<tbody>\n",
       "\t<tr><th scope=row>5</th><td>23.61538 </td><td>181.2963 </td><td>11.622581</td><td>65.54839 </td></tr>\n",
       "\t<tr><th scope=row>6</th><td>29.44444 </td><td>190.1667 </td><td>10.266667</td><td>79.10000 </td></tr>\n",
       "\t<tr><th scope=row>7</th><td>59.11538 </td><td>216.4839 </td><td> 8.941935</td><td>83.90323 </td></tr>\n",
       "\t<tr><th scope=row>8</th><td>59.96154 </td><td>171.8571 </td><td> 8.793548</td><td>83.96774 </td></tr>\n",
       "\t<tr><th scope=row>9</th><td>31.44828 </td><td>167.4333 </td><td>10.180000</td><td>76.90000 </td></tr>\n",
       "</tbody>\n",
       "</table>\n"
      ],
      "text/latex": [
       "\\begin{tabular}{r|llll}\n",
       "  & ozone & solar.r & wind & temp\\\\\n",
       "\\hline\n",
       "\t5 & 23.61538  & 181.2963  & 11.622581 & 65.54839 \\\\\n",
       "\t6 & 29.44444  & 190.1667  & 10.266667 & 79.10000 \\\\\n",
       "\t7 & 59.11538  & 216.4839  &  8.941935 & 83.90323 \\\\\n",
       "\t8 & 59.96154  & 171.8571  &  8.793548 & 83.96774 \\\\\n",
       "\t9 & 31.44828  & 167.4333  & 10.180000 & 76.90000 \\\\\n",
       "\\end{tabular}\n"
      ],
      "text/markdown": [
       "\n",
       "| <!--/--> | ozone | solar.r | wind | temp | \n",
       "|---|---|---|---|---|\n",
       "| 5 | 23.61538  | 181.2963  | 11.622581 | 65.54839  | \n",
       "| 6 | 29.44444  | 190.1667  | 10.266667 | 79.10000  | \n",
       "| 7 | 59.11538  | 216.4839  |  8.941935 | 83.90323  | \n",
       "| 8 | 59.96154  | 171.8571  |  8.793548 | 83.96774  | \n",
       "| 9 | 31.44828  | 167.4333  | 10.180000 | 76.90000  | \n",
       "\n",
       "\n"
      ],
      "text/plain": [
       "  ozone    solar.r  wind      temp    \n",
       "5 23.61538 181.2963 11.622581 65.54839\n",
       "6 29.44444 190.1667 10.266667 79.10000\n",
       "7 59.11538 216.4839  8.941935 83.90323\n",
       "8 59.96154 171.8571  8.793548 83.96774\n",
       "9 31.44828 167.4333 10.180000 76.90000"
      ]
     },
     "metadata": {},
     "output_type": "display_data"
    }
   ],
   "source": [
    "acast(aqm, month ~ variable, mean) #month为分组对象，计算每个组的均值"
   ]
  }
 ],
 "metadata": {
  "kernelspec": {
   "display_name": "R",
   "language": "R",
   "name": "ir"
  },
  "language_info": {
   "codemirror_mode": "r",
   "file_extension": ".r",
   "mimetype": "text/x-r-source",
   "name": "R",
   "pygments_lexer": "r",
   "version": "3.4.2"
  },
  "toc": {
   "nav_menu": {},
   "number_sections": true,
   "sideBar": true,
   "skip_h1_title": false,
   "title_cell": "Table of Contents",
   "title_sidebar": "Contents",
   "toc_cell": false,
   "toc_position": {},
   "toc_section_display": true,
   "toc_window_display": false
  }
 },
 "nbformat": 4,
 "nbformat_minor": 2
}
